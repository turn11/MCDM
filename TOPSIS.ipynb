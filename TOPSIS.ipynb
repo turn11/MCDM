{
 "cells": [
  {
   "cell_type": "markdown",
   "metadata": {},
   "source": [
    "### Import Libraries"
   ]
  },
  {
   "cell_type": "code",
   "execution_count": 1,
   "metadata": {},
   "outputs": [],
   "source": [
    "import pandas as pd # Dataset operations\n",
    "import numpy as np # math and array operations\n",
    "from scipy.spatial import distance"
   ]
  },
  {
   "cell_type": "markdown",
   "metadata": {},
   "source": [
    "### Import Dataset\n",
    "Import dataset with the following columns:\n",
    "- Propierties\n",
    "- Units\n",
    "- Max or Min Criteria\n",
    "- Next columns are for each material with its properties values"
   ]
  },
  {
   "cell_type": "code",
   "execution_count": 2,
   "metadata": {},
   "outputs": [
    {
     "data": {
      "text/html": [
       "<div>\n",
       "<style scoped>\n",
       "    .dataframe tbody tr th:only-of-type {\n",
       "        vertical-align: middle;\n",
       "    }\n",
       "\n",
       "    .dataframe tbody tr th {\n",
       "        vertical-align: top;\n",
       "    }\n",
       "\n",
       "    .dataframe thead th {\n",
       "        text-align: right;\n",
       "    }\n",
       "</style>\n",
       "<table border=\"1\" class=\"dataframe\">\n",
       "  <thead>\n",
       "    <tr style=\"text-align: right;\">\n",
       "      <th></th>\n",
       "      <th>Propiedad</th>\n",
       "      <th>Unidades</th>\n",
       "      <th>Criterio</th>\n",
       "      <th>PP</th>\n",
       "      <th>LDPE</th>\n",
       "      <th>HDPE</th>\n",
       "      <th>N6</th>\n",
       "    </tr>\n",
       "  </thead>\n",
       "  <tbody>\n",
       "    <tr>\n",
       "      <th>0</th>\n",
       "      <td>Esfuerzo fluencia</td>\n",
       "      <td>Mpa</td>\n",
       "      <td>Max</td>\n",
       "      <td>41.40</td>\n",
       "      <td>78.000</td>\n",
       "      <td>38.00</td>\n",
       "      <td>79.00</td>\n",
       "    </tr>\n",
       "    <tr>\n",
       "      <th>1</th>\n",
       "      <td>Módulo de elasticidad</td>\n",
       "      <td>Gpa</td>\n",
       "      <td>Max</td>\n",
       "      <td>1.77</td>\n",
       "      <td>0.380</td>\n",
       "      <td>1.50</td>\n",
       "      <td>2.90</td>\n",
       "    </tr>\n",
       "    <tr>\n",
       "      <th>2</th>\n",
       "      <td>Densidad</td>\n",
       "      <td>g/cm^3</td>\n",
       "      <td>Min</td>\n",
       "      <td>0.92</td>\n",
       "      <td>0.925</td>\n",
       "      <td>0.96</td>\n",
       "      <td>1.14</td>\n",
       "    </tr>\n",
       "    <tr>\n",
       "      <th>3</th>\n",
       "      <td>Absorción de agua</td>\n",
       "      <td>%</td>\n",
       "      <td>Min</td>\n",
       "      <td>0.02</td>\n",
       "      <td>0.015</td>\n",
       "      <td>0.20</td>\n",
       "      <td>1.80</td>\n",
       "    </tr>\n",
       "    <tr>\n",
       "      <th>4</th>\n",
       "      <td>Costo de la materia prima</td>\n",
       "      <td>USD/kg</td>\n",
       "      <td>Min</td>\n",
       "      <td>0.97</td>\n",
       "      <td>1.060</td>\n",
       "      <td>0.90</td>\n",
       "      <td>2.10</td>\n",
       "    </tr>\n",
       "  </tbody>\n",
       "</table>\n",
       "</div>"
      ],
      "text/plain": [
       "                   Propiedad Unidades Criterio     PP    LDPE   HDPE     N6\n",
       "0          Esfuerzo fluencia      Mpa      Max  41.40  78.000  38.00  79.00\n",
       "1      Módulo de elasticidad      Gpa      Max   1.77   0.380   1.50   2.90\n",
       "2                   Densidad   g/cm^3      Min   0.92   0.925   0.96   1.14\n",
       "3          Absorción de agua        %      Min   0.02   0.015   0.20   1.80\n",
       "4  Costo de la materia prima   USD/kg      Min   0.97   1.060   0.90   2.10"
      ]
     },
     "execution_count": 2,
     "metadata": {},
     "output_type": "execute_result"
    }
   ],
   "source": [
    "df = pd.read_excel(\"Materiales.xlsx\")\n",
    "df.head()"
   ]
  },
  {
   "cell_type": "code",
   "execution_count": 3,
   "metadata": {},
   "outputs": [
    {
     "data": {
      "text/plain": [
       "['Esfuerzo fluencia',\n",
       " 'Módulo de elasticidad',\n",
       " 'Densidad',\n",
       " 'Absorción de agua',\n",
       " 'Costo de la materia prima']"
      ]
     },
     "execution_count": 3,
     "metadata": {},
     "output_type": "execute_result"
    }
   ],
   "source": [
    "# List of criterias\n",
    "criterias = df[\"Propiedad\"].tolist()\n",
    "criterias"
   ]
  },
  {
   "cell_type": "code",
   "execution_count": 4,
   "metadata": {},
   "outputs": [
    {
     "data": {
      "text/plain": [
       "['PP', 'LDPE', 'HDPE', 'N6']"
      ]
     },
     "execution_count": 4,
     "metadata": {},
     "output_type": "execute_result"
    }
   ],
   "source": [
    "# List of alternatives\n",
    "alternatives =  df.columns.tolist()[3:]\n",
    "alternatives"
   ]
  },
  {
   "cell_type": "code",
   "execution_count": 5,
   "metadata": {},
   "outputs": [
    {
     "data": {
      "text/plain": [
       "['Max', 'Max', 'Min', 'Min', 'Min']"
      ]
     },
     "execution_count": 5,
     "metadata": {},
     "output_type": "execute_result"
    }
   ],
   "source": [
    "# Max or min criterias\n",
    "maxmin = df[\"Criterio\"].tolist()\n",
    "maxmin"
   ]
  },
  {
   "cell_type": "markdown",
   "metadata": {},
   "source": [
    "# TOPSIS"
   ]
  },
  {
   "cell_type": "markdown",
   "metadata": {},
   "source": [
    "### Decisional matrix"
   ]
  },
  {
   "cell_type": "code",
   "execution_count": 6,
   "metadata": {},
   "outputs": [
    {
     "data": {
      "text/html": [
       "<div>\n",
       "<style scoped>\n",
       "    .dataframe tbody tr th:only-of-type {\n",
       "        vertical-align: middle;\n",
       "    }\n",
       "\n",
       "    .dataframe tbody tr th {\n",
       "        vertical-align: top;\n",
       "    }\n",
       "\n",
       "    .dataframe thead th {\n",
       "        text-align: right;\n",
       "    }\n",
       "</style>\n",
       "<table border=\"1\" class=\"dataframe\">\n",
       "  <thead>\n",
       "    <tr style=\"text-align: right;\">\n",
       "      <th></th>\n",
       "      <th>PP</th>\n",
       "      <th>LDPE</th>\n",
       "      <th>HDPE</th>\n",
       "      <th>N6</th>\n",
       "    </tr>\n",
       "  </thead>\n",
       "  <tbody>\n",
       "    <tr>\n",
       "      <th>0</th>\n",
       "      <td>41.40</td>\n",
       "      <td>78.000</td>\n",
       "      <td>38.00</td>\n",
       "      <td>79.00</td>\n",
       "    </tr>\n",
       "    <tr>\n",
       "      <th>1</th>\n",
       "      <td>1.77</td>\n",
       "      <td>0.380</td>\n",
       "      <td>1.50</td>\n",
       "      <td>2.90</td>\n",
       "    </tr>\n",
       "    <tr>\n",
       "      <th>2</th>\n",
       "      <td>0.92</td>\n",
       "      <td>0.925</td>\n",
       "      <td>0.96</td>\n",
       "      <td>1.14</td>\n",
       "    </tr>\n",
       "    <tr>\n",
       "      <th>3</th>\n",
       "      <td>0.02</td>\n",
       "      <td>0.015</td>\n",
       "      <td>0.20</td>\n",
       "      <td>1.80</td>\n",
       "    </tr>\n",
       "    <tr>\n",
       "      <th>4</th>\n",
       "      <td>0.97</td>\n",
       "      <td>1.060</td>\n",
       "      <td>0.90</td>\n",
       "      <td>2.10</td>\n",
       "    </tr>\n",
       "  </tbody>\n",
       "</table>\n",
       "</div>"
      ],
      "text/plain": [
       "      PP    LDPE   HDPE     N6\n",
       "0  41.40  78.000  38.00  79.00\n",
       "1   1.77   0.380   1.50   2.90\n",
       "2   0.92   0.925   0.96   1.14\n",
       "3   0.02   0.015   0.20   1.80\n",
       "4   0.97   1.060   0.90   2.10"
      ]
     },
     "execution_count": 6,
     "metadata": {},
     "output_type": "execute_result"
    }
   ],
   "source": [
    "df.pop(\"Unidades\") # Deleta Units column\n",
    "df.pop(\"Criterio\") # Delete max-min criteria colum\n",
    "df.pop(\"Propiedad\")# Delete properties column\n",
    "df"
   ]
  },
  {
   "cell_type": "code",
   "execution_count": 7,
   "metadata": {},
   "outputs": [
    {
     "data": {
      "text/html": [
       "<div>\n",
       "<style scoped>\n",
       "    .dataframe tbody tr th:only-of-type {\n",
       "        vertical-align: middle;\n",
       "    }\n",
       "\n",
       "    .dataframe tbody tr th {\n",
       "        vertical-align: top;\n",
       "    }\n",
       "\n",
       "    .dataframe thead th {\n",
       "        text-align: right;\n",
       "    }\n",
       "</style>\n",
       "<table border=\"1\" class=\"dataframe\">\n",
       "  <thead>\n",
       "    <tr style=\"text-align: right;\">\n",
       "      <th></th>\n",
       "      <th>Esfuerzo fluencia</th>\n",
       "      <th>Módulo de elasticidad</th>\n",
       "      <th>Densidad</th>\n",
       "      <th>Absorción de agua</th>\n",
       "      <th>Costo de la materia prima</th>\n",
       "    </tr>\n",
       "  </thead>\n",
       "  <tbody>\n",
       "    <tr>\n",
       "      <th>PP</th>\n",
       "      <td>41.4</td>\n",
       "      <td>1.77</td>\n",
       "      <td>0.920</td>\n",
       "      <td>0.020</td>\n",
       "      <td>0.97</td>\n",
       "    </tr>\n",
       "    <tr>\n",
       "      <th>LDPE</th>\n",
       "      <td>78.0</td>\n",
       "      <td>0.38</td>\n",
       "      <td>0.925</td>\n",
       "      <td>0.015</td>\n",
       "      <td>1.06</td>\n",
       "    </tr>\n",
       "    <tr>\n",
       "      <th>HDPE</th>\n",
       "      <td>38.0</td>\n",
       "      <td>1.50</td>\n",
       "      <td>0.960</td>\n",
       "      <td>0.200</td>\n",
       "      <td>0.90</td>\n",
       "    </tr>\n",
       "    <tr>\n",
       "      <th>N6</th>\n",
       "      <td>79.0</td>\n",
       "      <td>2.90</td>\n",
       "      <td>1.140</td>\n",
       "      <td>1.800</td>\n",
       "      <td>2.10</td>\n",
       "    </tr>\n",
       "  </tbody>\n",
       "</table>\n",
       "</div>"
      ],
      "text/plain": [
       "      Esfuerzo fluencia  Módulo de elasticidad  Densidad  Absorción de agua  \\\n",
       "PP                 41.4                   1.77     0.920              0.020   \n",
       "LDPE               78.0                   0.38     0.925              0.015   \n",
       "HDPE               38.0                   1.50     0.960              0.200   \n",
       "N6                 79.0                   2.90     1.140              1.800   \n",
       "\n",
       "      Costo de la materia prima  \n",
       "PP                         0.97  \n",
       "LDPE                       1.06  \n",
       "HDPE                       0.90  \n",
       "N6                         2.10  "
      ]
     },
     "execution_count": 7,
     "metadata": {},
     "output_type": "execute_result"
    }
   ],
   "source": [
    "df_decisional = df.T\n",
    "df_decisional.columns = criterias\n",
    "df_decisional"
   ]
  },
  {
   "cell_type": "code",
   "execution_count": 8,
   "metadata": {},
   "outputs": [
    {
     "data": {
      "text/plain": [
       "array([[41.4  ,  1.77 ,  0.92 ,  0.02 ,  0.97 ],\n",
       "       [78.   ,  0.38 ,  0.925,  0.015,  1.06 ],\n",
       "       [38.   ,  1.5  ,  0.96 ,  0.2  ,  0.9  ],\n",
       "       [79.   ,  2.9  ,  1.14 ,  1.8  ,  2.1  ]])"
      ]
     },
     "execution_count": 8,
     "metadata": {},
     "output_type": "execute_result"
    }
   ],
   "source": [
    "np.set_printoptions(suppress=True, precision=5) # Avoid scientific notation in numpy matrix and 3 decimal digits\n",
    "\n",
    "m_decisional = df_decisional.to_numpy() #Dataframe into numpy matrix\n",
    "m_decisional"
   ]
  },
  {
   "cell_type": "markdown",
   "metadata": {},
   "source": [
    "### r_ij^2  Matrix"
   ]
  },
  {
   "cell_type": "markdown",
   "metadata": {},
   "source": [
    "#### Normalized\n",
    "$$x_{ij} = {r_{ij}\\over {\\sqrt{\\sum{r_{ij}^2}}}}$$"
   ]
  },
  {
   "cell_type": "code",
   "execution_count": 9,
   "metadata": {},
   "outputs": [
    {
     "name": "stdout",
     "output_type": "stream",
     "text": [
      "r_ij squared Matrix\n",
      "[[1713.96       3.1329     0.8464     0.0004     0.9409 ]\n",
      " [6084.         0.1444     0.85563    0.00022    1.1236 ]\n",
      " [1444.         2.25       0.9216     0.04       0.81   ]\n",
      " [6241.         8.41       1.2996     3.24       4.41   ]]\n",
      " \n",
      "Sum of each column\n",
      "[15482.96       13.9373      3.92322     3.28063     7.2845 ]\n"
     ]
    }
   ],
   "source": [
    "m_rij = m_decisional**2 # Matrix to save r_ij^2  values\n",
    "\n",
    "sum_column = np.zeros(len(criterias)) # Array to save columns sum\n",
    "\n",
    "for i in range(len(criterias)):\n",
    "    \n",
    "    sum_column[i] = np.sum(m_rij[:,i])\n",
    "\n",
    "print(\"r_ij squared Matrix\")\n",
    "print(m_rij)\n",
    "print(\" \")\n",
    "print(\"Sum of each column\")\n",
    "print(sum_column)"
   ]
  },
  {
   "cell_type": "markdown",
   "metadata": {},
   "source": [
    "### Normalized Matrix"
   ]
  },
  {
   "cell_type": "code",
   "execution_count": 10,
   "metadata": {},
   "outputs": [
    {
     "name": "stdout",
     "output_type": "stream",
     "text": [
      "[[0.33272 0.47412 0.46448 0.01104 0.35939]\n",
      " [0.62686 0.10179 0.467   0.00828 0.39274]\n",
      " [0.30539 0.40179 0.48467 0.11042 0.33346]\n",
      " [0.63489 0.7768  0.57555 0.99379 0.77807]]\n"
     ]
    }
   ],
   "source": [
    "m_normalized = m_decisional/np.sqrt(sum_column) # Matrix to save normalized values\n",
    "print(m_normalized)"
   ]
  },
  {
   "cell_type": "markdown",
   "metadata": {},
   "source": [
    "### Weights"
   ]
  },
  {
   "cell_type": "code",
   "execution_count": 11,
   "metadata": {},
   "outputs": [
    {
     "name": "stdout",
     "output_type": "stream",
     "text": [
      "Weight of Esfuerzo fluencia: 0.1\n",
      "Weight of Módulo de elasticidad: 0.15\n",
      "Weight of Densidad: 0.3\n",
      "Weight of Absorción de agua: 0.1\n",
      "Weight of Costo de la materia prima: 0.35\n",
      " \n"
     ]
    },
    {
     "data": {
      "text/plain": [
       "[('Esfuerzo fluencia', 0.1),\n",
       " ('Módulo de elasticidad', 0.15),\n",
       " ('Densidad', 0.3),\n",
       " ('Absorción de agua', 0.1),\n",
       " ('Costo de la materia prima', 0.35)]"
      ]
     },
     "execution_count": 11,
     "metadata": {},
     "output_type": "execute_result"
    }
   ],
   "source": [
    "w = np.zeros(len(criterias)) # Array to save criterias' weight\n",
    "\n",
    "condition = True # Cndition sum weights = 1\n",
    " \n",
    "while condition:\n",
    "    \n",
    "    for i in range(len(criterias)):\n",
    "        w[i] = float(input(\"Weight of {}: \".format(criterias[i])))\n",
    "    \n",
    "    if np.sum(w) == 1:\n",
    "        condition = False\n",
    "    else:\n",
    "        print(\" \")\n",
    "        print(\"¡Sum of weights is different to 1, correct the values!\")\n",
    "\n",
    "print(\" \")\n",
    "list(zip(criterias,w))"
   ]
  },
  {
   "cell_type": "markdown",
   "metadata": {},
   "source": [
    "### Weighted matrix"
   ]
  },
  {
   "cell_type": "code",
   "execution_count": 12,
   "metadata": {},
   "outputs": [
    {
     "name": "stdout",
     "output_type": "stream",
     "text": [
      "[[0.03327 0.07112 0.13934 0.0011  0.12579]\n",
      " [0.06269 0.01527 0.1401  0.00083 0.13746]\n",
      " [0.03054 0.06027 0.1454  0.01104 0.11671]\n",
      " [0.06349 0.11652 0.17267 0.09938 0.27232]]\n"
     ]
    }
   ],
   "source": [
    "m_weight = m_normalized*w # Matrix to save weighted values\n",
    "print(m_weight)"
   ]
  },
  {
   "cell_type": "markdown",
   "metadata": {},
   "source": [
    "### Ideal and Non-Ideal alternatives"
   ]
  },
  {
   "cell_type": "code",
   "execution_count": 13,
   "metadata": {},
   "outputs": [
    {
     "name": "stdout",
     "output_type": "stream",
     "text": [
      "V+\n",
      "[0.06349 0.11652 0.13934 0.00083 0.11671]\n",
      " \n",
      "V-\n",
      "[0.03054 0.01527 0.17267 0.09938 0.27232]\n"
     ]
    }
   ],
   "source": [
    "v_max = np.zeros(len(criterias)) # Arrays to save the ideal alternative\n",
    "v_min = np.zeros(len(criterias)) # Arrays to save the Non-ideal alternative\n",
    "\n",
    "for i in range(len(criterias)):\n",
    "    \n",
    "    if maxmin[i] == \"Max\":\n",
    "        v_max[i] = max(m_weight[:,i])\n",
    "        v_min[i] = min(m_weight[:,i])\n",
    "    \n",
    "    elif maxmin[i] == \"Min\":\n",
    "        v_max[i] = min(m_weight[:,i])\n",
    "        v_min[i] = max(m_weight[:,i])\n",
    "        \n",
    "print(\"V+\")\n",
    "print(v_max)\n",
    "print(\" \")\n",
    "print(\"V-\")\n",
    "print(v_min)"
   ]
  },
  {
   "cell_type": "markdown",
   "metadata": {},
   "source": [
    "### Euclidean Distances"
   ]
  },
  {
   "cell_type": "code",
   "execution_count": 14,
   "metadata": {},
   "outputs": [
    {
     "name": "stdout",
     "output_type": "stream",
     "text": [
      "d+\n",
      "[0.05529 0.10336 0.06626 0.18719]\n",
      " \n",
      "d-\n",
      "[0.18806 0.17319 0.18651 0.10648]\n"
     ]
    }
   ],
   "source": [
    "dist_max = np.zeros(len(alternatives)) # Euclidean distance to the ideal solution\n",
    "dist_min = np.zeros(len(alternatives)) # Euclidean distance to the Non-ideal solution\n",
    "\n",
    "for i in range(len(alternatives)):\n",
    "    dist_max[i] = distance.euclidean(m_weight[i,:],v_max)\n",
    "    dist_min[i] = distance.euclidean(m_weight[i,:],v_min)\n",
    "\n",
    "print(\"d+\")\n",
    "print(dist_max)\n",
    "print(\" \")\n",
    "print(\"d-\")\n",
    "print(dist_min)"
   ]
  },
  {
   "cell_type": "markdown",
   "metadata": {},
   "source": [
    "### Relative Proximity"
   ]
  },
  {
   "cell_type": "code",
   "execution_count": 15,
   "metadata": {},
   "outputs": [
    {
     "name": "stdout",
     "output_type": "stream",
     "text": [
      "[0.7728  0.62625 0.73786 0.36259]\n"
     ]
    }
   ],
   "source": [
    "r_prox = dist_min/(dist_max+dist_min)\n",
    "print(r_prox)"
   ]
  },
  {
   "cell_type": "markdown",
   "metadata": {},
   "source": [
    "### Results"
   ]
  },
  {
   "cell_type": "code",
   "execution_count": 16,
   "metadata": {},
   "outputs": [
    {
     "data": {
      "text/html": [
       "<div>\n",
       "<style scoped>\n",
       "    .dataframe tbody tr th:only-of-type {\n",
       "        vertical-align: middle;\n",
       "    }\n",
       "\n",
       "    .dataframe tbody tr th {\n",
       "        vertical-align: top;\n",
       "    }\n",
       "\n",
       "    .dataframe thead th {\n",
       "        text-align: right;\n",
       "    }\n",
       "</style>\n",
       "<table border=\"1\" class=\"dataframe\">\n",
       "  <thead>\n",
       "    <tr style=\"text-align: right;\">\n",
       "      <th></th>\n",
       "      <th>Material</th>\n",
       "      <th>Relative Proximity</th>\n",
       "    </tr>\n",
       "  </thead>\n",
       "  <tbody>\n",
       "    <tr>\n",
       "      <th>0</th>\n",
       "      <td>PP</td>\n",
       "      <td>0.772800</td>\n",
       "    </tr>\n",
       "    <tr>\n",
       "      <th>1</th>\n",
       "      <td>LDPE</td>\n",
       "      <td>0.626248</td>\n",
       "    </tr>\n",
       "    <tr>\n",
       "      <th>2</th>\n",
       "      <td>HDPE</td>\n",
       "      <td>0.737857</td>\n",
       "    </tr>\n",
       "    <tr>\n",
       "      <th>3</th>\n",
       "      <td>N6</td>\n",
       "      <td>0.362586</td>\n",
       "    </tr>\n",
       "  </tbody>\n",
       "</table>\n",
       "</div>"
      ],
      "text/plain": [
       "  Material  Relative Proximity\n",
       "0       PP            0.772800\n",
       "1     LDPE            0.626248\n",
       "2     HDPE            0.737857\n",
       "3       N6            0.362586"
      ]
     },
     "execution_count": 16,
     "metadata": {},
     "output_type": "execute_result"
    }
   ],
   "source": [
    "# Show it as a Dataframe\n",
    "df_end = pd.DataFrame(r_prox)\n",
    "df_end.insert(0, \"Material\", alternatives)\n",
    "df_end.columns = [\"Material\",\"Relative Proximity\"]\n",
    "df_end"
   ]
  },
  {
   "cell_type": "code",
   "execution_count": 17,
   "metadata": {},
   "outputs": [
    {
     "data": {
      "text/html": [
       "<div>\n",
       "<style scoped>\n",
       "    .dataframe tbody tr th:only-of-type {\n",
       "        vertical-align: middle;\n",
       "    }\n",
       "\n",
       "    .dataframe tbody tr th {\n",
       "        vertical-align: top;\n",
       "    }\n",
       "\n",
       "    .dataframe thead th {\n",
       "        text-align: right;\n",
       "    }\n",
       "</style>\n",
       "<table border=\"1\" class=\"dataframe\">\n",
       "  <thead>\n",
       "    <tr style=\"text-align: right;\">\n",
       "      <th></th>\n",
       "      <th>Ranking</th>\n",
       "      <th>Material</th>\n",
       "      <th>Relative Proximity</th>\n",
       "    </tr>\n",
       "  </thead>\n",
       "  <tbody>\n",
       "    <tr>\n",
       "      <th>0</th>\n",
       "      <td>1</td>\n",
       "      <td>PP</td>\n",
       "      <td>0.772800</td>\n",
       "    </tr>\n",
       "    <tr>\n",
       "      <th>2</th>\n",
       "      <td>2</td>\n",
       "      <td>HDPE</td>\n",
       "      <td>0.737857</td>\n",
       "    </tr>\n",
       "    <tr>\n",
       "      <th>1</th>\n",
       "      <td>3</td>\n",
       "      <td>LDPE</td>\n",
       "      <td>0.626248</td>\n",
       "    </tr>\n",
       "    <tr>\n",
       "      <th>3</th>\n",
       "      <td>4</td>\n",
       "      <td>N6</td>\n",
       "      <td>0.362586</td>\n",
       "    </tr>\n",
       "  </tbody>\n",
       "</table>\n",
       "</div>"
      ],
      "text/plain": [
       "   Ranking Material  Relative Proximity\n",
       "0        1       PP            0.772800\n",
       "2        2     HDPE            0.737857\n",
       "1        3     LDPE            0.626248\n",
       "3        4       N6            0.362586"
      ]
     },
     "execution_count": 17,
     "metadata": {},
     "output_type": "execute_result"
    }
   ],
   "source": [
    "df_end = df_end.sort_values(by=[\"Relative Proximity\"], ascending = False)\n",
    "df_end.insert(0, \"Ranking\", list(range(1,len(alternatives)+1)))\n",
    "df_end"
   ]
  }
 ],
 "metadata": {
  "kernelspec": {
   "display_name": "Python 3",
   "language": "python",
   "name": "python3"
  },
  "language_info": {
   "codemirror_mode": {
    "name": "ipython",
    "version": 3
   },
   "file_extension": ".py",
   "mimetype": "text/x-python",
   "name": "python",
   "nbconvert_exporter": "python",
   "pygments_lexer": "ipython3",
   "version": "3.8.8"
  }
 },
 "nbformat": 4,
 "nbformat_minor": 2
}
