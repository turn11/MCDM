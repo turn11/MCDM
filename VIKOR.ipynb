{
 "cells": [
  {
   "cell_type": "markdown",
   "metadata": {},
   "source": [
    "### Import Libraries"
   ]
  },
  {
   "cell_type": "code",
   "execution_count": 1,
   "metadata": {},
   "outputs": [],
   "source": [
    "import pandas as pd # Dataset operations\n",
    "import numpy as np # math and array operations\n",
    "from scipy.spatial import distance"
   ]
  },
  {
   "cell_type": "markdown",
   "metadata": {},
   "source": [
    "### Import Dataset\n",
    "Import dataset with the following columns:\n",
    "- Propierties\n",
    "- Units\n",
    "- Max or Min Criteria\n",
    "- Next columns are for each material with its properties values"
   ]
  },
  {
   "cell_type": "code",
   "execution_count": 2,
   "metadata": {},
   "outputs": [
    {
     "data": {
      "text/html": [
       "<div>\n",
       "<style scoped>\n",
       "    .dataframe tbody tr th:only-of-type {\n",
       "        vertical-align: middle;\n",
       "    }\n",
       "\n",
       "    .dataframe tbody tr th {\n",
       "        vertical-align: top;\n",
       "    }\n",
       "\n",
       "    .dataframe thead th {\n",
       "        text-align: right;\n",
       "    }\n",
       "</style>\n",
       "<table border=\"1\" class=\"dataframe\">\n",
       "  <thead>\n",
       "    <tr style=\"text-align: right;\">\n",
       "      <th></th>\n",
       "      <th>Propiedad</th>\n",
       "      <th>Unidades</th>\n",
       "      <th>Criterio</th>\n",
       "      <th>PP</th>\n",
       "      <th>LDPE</th>\n",
       "      <th>HDPE</th>\n",
       "      <th>N6</th>\n",
       "    </tr>\n",
       "  </thead>\n",
       "  <tbody>\n",
       "    <tr>\n",
       "      <th>0</th>\n",
       "      <td>Esfuerzo fluencia</td>\n",
       "      <td>Mpa</td>\n",
       "      <td>Max</td>\n",
       "      <td>41.40</td>\n",
       "      <td>78.000</td>\n",
       "      <td>38.00</td>\n",
       "      <td>79.00</td>\n",
       "    </tr>\n",
       "    <tr>\n",
       "      <th>1</th>\n",
       "      <td>Módulo de elasticidad</td>\n",
       "      <td>Gpa</td>\n",
       "      <td>Max</td>\n",
       "      <td>1.77</td>\n",
       "      <td>0.380</td>\n",
       "      <td>1.50</td>\n",
       "      <td>2.90</td>\n",
       "    </tr>\n",
       "    <tr>\n",
       "      <th>2</th>\n",
       "      <td>Densidad</td>\n",
       "      <td>g/cm^3</td>\n",
       "      <td>Min</td>\n",
       "      <td>0.92</td>\n",
       "      <td>0.925</td>\n",
       "      <td>0.96</td>\n",
       "      <td>1.14</td>\n",
       "    </tr>\n",
       "    <tr>\n",
       "      <th>3</th>\n",
       "      <td>Absorción de agua</td>\n",
       "      <td>%</td>\n",
       "      <td>Min</td>\n",
       "      <td>0.02</td>\n",
       "      <td>0.015</td>\n",
       "      <td>0.20</td>\n",
       "      <td>1.80</td>\n",
       "    </tr>\n",
       "    <tr>\n",
       "      <th>4</th>\n",
       "      <td>Costo de la materia prima</td>\n",
       "      <td>USD/kg</td>\n",
       "      <td>Min</td>\n",
       "      <td>0.97</td>\n",
       "      <td>1.060</td>\n",
       "      <td>0.90</td>\n",
       "      <td>2.10</td>\n",
       "    </tr>\n",
       "  </tbody>\n",
       "</table>\n",
       "</div>"
      ],
      "text/plain": [
       "                   Propiedad Unidades Criterio     PP    LDPE   HDPE     N6\n",
       "0          Esfuerzo fluencia      Mpa      Max  41.40  78.000  38.00  79.00\n",
       "1      Módulo de elasticidad      Gpa      Max   1.77   0.380   1.50   2.90\n",
       "2                   Densidad   g/cm^3      Min   0.92   0.925   0.96   1.14\n",
       "3          Absorción de agua        %      Min   0.02   0.015   0.20   1.80\n",
       "4  Costo de la materia prima   USD/kg      Min   0.97   1.060   0.90   2.10"
      ]
     },
     "execution_count": 2,
     "metadata": {},
     "output_type": "execute_result"
    }
   ],
   "source": [
    "df = pd.read_excel(\"Materiales.xlsx\")\n",
    "df.head()"
   ]
  },
  {
   "cell_type": "code",
   "execution_count": 3,
   "metadata": {},
   "outputs": [
    {
     "data": {
      "text/plain": [
       "['Esfuerzo fluencia',\n",
       " 'Módulo de elasticidad',\n",
       " 'Densidad',\n",
       " 'Absorción de agua',\n",
       " 'Costo de la materia prima']"
      ]
     },
     "execution_count": 3,
     "metadata": {},
     "output_type": "execute_result"
    }
   ],
   "source": [
    "# List of criterias\n",
    "criterias = df[\"Propiedad\"].tolist()\n",
    "criterias"
   ]
  },
  {
   "cell_type": "code",
   "execution_count": 4,
   "metadata": {},
   "outputs": [
    {
     "data": {
      "text/plain": [
       "['PP', 'LDPE', 'HDPE', 'N6']"
      ]
     },
     "execution_count": 4,
     "metadata": {},
     "output_type": "execute_result"
    }
   ],
   "source": [
    "# List of alternatives\n",
    "alternatives =  df.columns.tolist()[3:]\n",
    "alternatives"
   ]
  },
  {
   "cell_type": "code",
   "execution_count": 5,
   "metadata": {},
   "outputs": [
    {
     "data": {
      "text/plain": [
       "['Max', 'Max', 'Min', 'Min', 'Min']"
      ]
     },
     "execution_count": 5,
     "metadata": {},
     "output_type": "execute_result"
    }
   ],
   "source": [
    "# Max or min criterias\n",
    "maxmin = df[\"Criterio\"].tolist()\n",
    "maxmin"
   ]
  },
  {
   "cell_type": "markdown",
   "metadata": {},
   "source": [
    "# VIKOR"
   ]
  },
  {
   "cell_type": "markdown",
   "metadata": {},
   "source": [
    "### Decisional matrix"
   ]
  },
  {
   "cell_type": "code",
   "execution_count": 6,
   "metadata": {},
   "outputs": [
    {
     "data": {
      "text/html": [
       "<div>\n",
       "<style scoped>\n",
       "    .dataframe tbody tr th:only-of-type {\n",
       "        vertical-align: middle;\n",
       "    }\n",
       "\n",
       "    .dataframe tbody tr th {\n",
       "        vertical-align: top;\n",
       "    }\n",
       "\n",
       "    .dataframe thead th {\n",
       "        text-align: right;\n",
       "    }\n",
       "</style>\n",
       "<table border=\"1\" class=\"dataframe\">\n",
       "  <thead>\n",
       "    <tr style=\"text-align: right;\">\n",
       "      <th></th>\n",
       "      <th>PP</th>\n",
       "      <th>LDPE</th>\n",
       "      <th>HDPE</th>\n",
       "      <th>N6</th>\n",
       "    </tr>\n",
       "  </thead>\n",
       "  <tbody>\n",
       "    <tr>\n",
       "      <th>0</th>\n",
       "      <td>41.40</td>\n",
       "      <td>78.000</td>\n",
       "      <td>38.00</td>\n",
       "      <td>79.00</td>\n",
       "    </tr>\n",
       "    <tr>\n",
       "      <th>1</th>\n",
       "      <td>1.77</td>\n",
       "      <td>0.380</td>\n",
       "      <td>1.50</td>\n",
       "      <td>2.90</td>\n",
       "    </tr>\n",
       "    <tr>\n",
       "      <th>2</th>\n",
       "      <td>0.92</td>\n",
       "      <td>0.925</td>\n",
       "      <td>0.96</td>\n",
       "      <td>1.14</td>\n",
       "    </tr>\n",
       "    <tr>\n",
       "      <th>3</th>\n",
       "      <td>0.02</td>\n",
       "      <td>0.015</td>\n",
       "      <td>0.20</td>\n",
       "      <td>1.80</td>\n",
       "    </tr>\n",
       "    <tr>\n",
       "      <th>4</th>\n",
       "      <td>0.97</td>\n",
       "      <td>1.060</td>\n",
       "      <td>0.90</td>\n",
       "      <td>2.10</td>\n",
       "    </tr>\n",
       "  </tbody>\n",
       "</table>\n",
       "</div>"
      ],
      "text/plain": [
       "      PP    LDPE   HDPE     N6\n",
       "0  41.40  78.000  38.00  79.00\n",
       "1   1.77   0.380   1.50   2.90\n",
       "2   0.92   0.925   0.96   1.14\n",
       "3   0.02   0.015   0.20   1.80\n",
       "4   0.97   1.060   0.90   2.10"
      ]
     },
     "execution_count": 6,
     "metadata": {},
     "output_type": "execute_result"
    }
   ],
   "source": [
    "df.pop(\"Unidades\") # Deleta Units column\n",
    "df.pop(\"Criterio\") # Delete max-min criteria colum\n",
    "df.pop(\"Propiedad\")# Delete properties column\n",
    "df"
   ]
  },
  {
   "cell_type": "code",
   "execution_count": 7,
   "metadata": {},
   "outputs": [
    {
     "data": {
      "text/html": [
       "<div>\n",
       "<style scoped>\n",
       "    .dataframe tbody tr th:only-of-type {\n",
       "        vertical-align: middle;\n",
       "    }\n",
       "\n",
       "    .dataframe tbody tr th {\n",
       "        vertical-align: top;\n",
       "    }\n",
       "\n",
       "    .dataframe thead th {\n",
       "        text-align: right;\n",
       "    }\n",
       "</style>\n",
       "<table border=\"1\" class=\"dataframe\">\n",
       "  <thead>\n",
       "    <tr style=\"text-align: right;\">\n",
       "      <th></th>\n",
       "      <th>Esfuerzo fluencia</th>\n",
       "      <th>Módulo de elasticidad</th>\n",
       "      <th>Densidad</th>\n",
       "      <th>Absorción de agua</th>\n",
       "      <th>Costo de la materia prima</th>\n",
       "    </tr>\n",
       "  </thead>\n",
       "  <tbody>\n",
       "    <tr>\n",
       "      <th>PP</th>\n",
       "      <td>41.4</td>\n",
       "      <td>1.77</td>\n",
       "      <td>0.920</td>\n",
       "      <td>0.020</td>\n",
       "      <td>0.97</td>\n",
       "    </tr>\n",
       "    <tr>\n",
       "      <th>LDPE</th>\n",
       "      <td>78.0</td>\n",
       "      <td>0.38</td>\n",
       "      <td>0.925</td>\n",
       "      <td>0.015</td>\n",
       "      <td>1.06</td>\n",
       "    </tr>\n",
       "    <tr>\n",
       "      <th>HDPE</th>\n",
       "      <td>38.0</td>\n",
       "      <td>1.50</td>\n",
       "      <td>0.960</td>\n",
       "      <td>0.200</td>\n",
       "      <td>0.90</td>\n",
       "    </tr>\n",
       "    <tr>\n",
       "      <th>N6</th>\n",
       "      <td>79.0</td>\n",
       "      <td>2.90</td>\n",
       "      <td>1.140</td>\n",
       "      <td>1.800</td>\n",
       "      <td>2.10</td>\n",
       "    </tr>\n",
       "  </tbody>\n",
       "</table>\n",
       "</div>"
      ],
      "text/plain": [
       "      Esfuerzo fluencia  Módulo de elasticidad  Densidad  Absorción de agua  \\\n",
       "PP                 41.4                   1.77     0.920              0.020   \n",
       "LDPE               78.0                   0.38     0.925              0.015   \n",
       "HDPE               38.0                   1.50     0.960              0.200   \n",
       "N6                 79.0                   2.90     1.140              1.800   \n",
       "\n",
       "      Costo de la materia prima  \n",
       "PP                         0.97  \n",
       "LDPE                       1.06  \n",
       "HDPE                       0.90  \n",
       "N6                         2.10  "
      ]
     },
     "execution_count": 7,
     "metadata": {},
     "output_type": "execute_result"
    }
   ],
   "source": [
    "df_decisional = df.T\n",
    "df_decisional.columns = criterias\n",
    "df_decisional"
   ]
  },
  {
   "cell_type": "code",
   "execution_count": 8,
   "metadata": {},
   "outputs": [
    {
     "data": {
      "text/plain": [
       "array([[41.4  ,  1.77 ,  0.92 ,  0.02 ,  0.97 ],\n",
       "       [78.   ,  0.38 ,  0.925,  0.015,  1.06 ],\n",
       "       [38.   ,  1.5  ,  0.96 ,  0.2  ,  0.9  ],\n",
       "       [79.   ,  2.9  ,  1.14 ,  1.8  ,  2.1  ]])"
      ]
     },
     "execution_count": 8,
     "metadata": {},
     "output_type": "execute_result"
    }
   ],
   "source": [
    "np.set_printoptions(suppress=True, precision=5) # Avoid scientific notation in numpy matrix and 3 decimal digits\n",
    "\n",
    "m_decisional = df_decisional.to_numpy() #Dataframe into numpy matrix\n",
    "m_decisional"
   ]
  },
  {
   "cell_type": "markdown",
   "metadata": {},
   "source": [
    "### Best and Worst Performance"
   ]
  },
  {
   "cell_type": "code",
   "execution_count": 9,
   "metadata": {},
   "outputs": [
    {
     "name": "stdout",
     "output_type": "stream",
     "text": [
      "f+\n",
      "[79.     2.9    0.92   0.015  0.9  ]\n",
      " \n",
      "f-\n",
      "[38.    0.38  1.14  1.8   2.1 ]\n"
     ]
    }
   ],
   "source": [
    "f_max = np.zeros(len(criterias)) # Arrays to save the best performance alternative\n",
    "f_min = np.zeros(len(criterias)) # Arrays to save the worst performance alternative\n",
    "\n",
    "for i in range(len(criterias)):\n",
    "    \n",
    "    if maxmin[i] == \"Max\":\n",
    "        f_max[i] = max(m_decisional[:,i])\n",
    "        f_min[i] = min(m_decisional[:,i])\n",
    "    \n",
    "    elif maxmin[i] == \"Min\":\n",
    "        f_max[i] = min(m_decisional[:,i])\n",
    "        f_min[i] = max(m_decisional[:,i])\n",
    "        \n",
    "print(\"f+\")\n",
    "print(f_max)\n",
    "print(\" \")\n",
    "print(\"f-\")\n",
    "print(f_min)"
   ]
  },
  {
   "cell_type": "markdown",
   "metadata": {},
   "source": [
    "### Weights"
   ]
  },
  {
   "cell_type": "code",
   "execution_count": 10,
   "metadata": {},
   "outputs": [
    {
     "name": "stdout",
     "output_type": "stream",
     "text": [
      "Weight of Esfuerzo fluencia: 0.1\n",
      "Weight of Módulo de elasticidad: 0.15\n",
      "Weight of Densidad: 0.3\n",
      "Weight of Absorción de agua: 0.1\n",
      "Weight of Costo de la materia prima: 0.35\n",
      " \n"
     ]
    },
    {
     "data": {
      "text/plain": [
       "[('Esfuerzo fluencia', 0.1),\n",
       " ('Módulo de elasticidad', 0.15),\n",
       " ('Densidad', 0.3),\n",
       " ('Absorción de agua', 0.1),\n",
       " ('Costo de la materia prima', 0.35)]"
      ]
     },
     "execution_count": 10,
     "metadata": {},
     "output_type": "execute_result"
    }
   ],
   "source": [
    "w = np.zeros(len(criterias)) # Array to save criterias' weight\n",
    "\n",
    "condition = True # Cndition sum weights = 1\n",
    " \n",
    "while condition:\n",
    "    \n",
    "    for i in range(len(criterias)):\n",
    "        w[i] = float(input(\"Weight of {}: \".format(criterias[i])))\n",
    "    \n",
    "    if np.sum(w) == 1:\n",
    "        condition = False\n",
    "    else:\n",
    "        print(\" \")\n",
    "        print(\"¡Sum of weights is different to 1, correct the values!\")\n",
    "\n",
    "print(\" \")\n",
    "list(zip(criterias,w))"
   ]
  },
  {
   "cell_type": "markdown",
   "metadata": {},
   "source": [
    "### S-R matrix"
   ]
  },
  {
   "cell_type": "code",
   "execution_count": 11,
   "metadata": {},
   "outputs": [
    {
     "name": "stdout",
     "output_type": "stream",
     "text": [
      "[[ 0.09171  0.06726 -0.       0.00028  0.02042]\n",
      " [ 0.00244  0.15     0.00682 -0.       0.04667]\n",
      " [ 0.1      0.08333  0.05455  0.01036 -0.     ]\n",
      " [ 0.       0.       0.3      0.1      0.35   ]]\n"
     ]
    }
   ],
   "source": [
    "m_SR = np.zeros((len(alternatives),len(criterias))) # Matrix to save SR values\n",
    "\n",
    "for i in range(len(alternatives)):\n",
    "    \n",
    "    m_SR[i,:] = (f_max-m_decisional[i,:])/(f_max-f_min)*w\n",
    "\n",
    "print(m_SR)"
   ]
  },
  {
   "cell_type": "markdown",
   "metadata": {},
   "source": [
    "### S & R distances"
   ]
  },
  {
   "cell_type": "code",
   "execution_count": 12,
   "metadata": {},
   "outputs": [
    {
     "name": "stdout",
     "output_type": "stream",
     "text": [
      "S\n",
      "[0.17967 0.20592 0.24824 0.75   ]\n",
      " \n",
      "R\n",
      "[0.09171 0.15    0.1     0.35   ]\n"
     ]
    }
   ],
   "source": [
    "S = np.zeros(len(alternatives)) # Manhathan Distance\n",
    "R = np.zeros(len(alternatives)) # Chebyshev Disntace\n",
    "\n",
    "for i in range(len(alternatives)):\n",
    "    \n",
    "    S[i] = sum(m_SR[i,:])\n",
    "    R[i] = max(m_SR[i,:])\n",
    "    \n",
    "print(\"S\")\n",
    "print(S)\n",
    "print(\" \")\n",
    "print(\"R\")\n",
    "print(R)"
   ]
  },
  {
   "cell_type": "markdown",
   "metadata": {},
   "source": [
    "### S *, R *, S-, R-"
   ]
  },
  {
   "cell_type": "code",
   "execution_count": 13,
   "metadata": {},
   "outputs": [
    {
     "name": "stdout",
     "output_type": "stream",
     "text": [
      "S*: 0.1797\n",
      "R*: 0.09171\n",
      "S-: 0.75\n",
      "R-: 0.35\n"
     ]
    }
   ],
   "source": [
    "S1 = min(S) \n",
    "R1 = min(R)\n",
    "\n",
    "S2 = max(S)\n",
    "R2 = max(R)\n",
    "\n",
    "print(\"S*: {:.4}\".format(S1))\n",
    "print(\"R*: {:.4}\".format(R1))\n",
    "print(\"S-: {:.4}\".format(S2))\n",
    "print(\"R-: {:.4}\".format(R2))"
   ]
  },
  {
   "cell_type": "markdown",
   "metadata": {},
   "source": [
    "### Merit Function"
   ]
  },
  {
   "cell_type": "code",
   "execution_count": 14,
   "metadata": {},
   "outputs": [
    {
     "name": "stdout",
     "output_type": "stream",
     "text": [
      "Input the strategy weight: 0.5\n",
      "[0.      0.13586 0.07617 1.     ]\n"
     ]
    }
   ],
   "source": [
    "v = float(input(\"Input the strategy weight: \"))\n",
    "\n",
    "Q = v*(S-S1)/(S2-S1) + (1-v)*(R-R1)/(R2-R1)\n",
    "\n",
    "print(Q)"
   ]
  },
  {
   "cell_type": "markdown",
   "metadata": {},
   "source": [
    "### Results"
   ]
  },
  {
   "cell_type": "code",
   "execution_count": 15,
   "metadata": {},
   "outputs": [
    {
     "data": {
      "text/html": [
       "<div>\n",
       "<style scoped>\n",
       "    .dataframe tbody tr th:only-of-type {\n",
       "        vertical-align: middle;\n",
       "    }\n",
       "\n",
       "    .dataframe tbody tr th {\n",
       "        vertical-align: top;\n",
       "    }\n",
       "\n",
       "    .dataframe thead th {\n",
       "        text-align: right;\n",
       "    }\n",
       "</style>\n",
       "<table border=\"1\" class=\"dataframe\">\n",
       "  <thead>\n",
       "    <tr style=\"text-align: right;\">\n",
       "      <th></th>\n",
       "      <th>Material</th>\n",
       "      <th>Merit Function</th>\n",
       "    </tr>\n",
       "  </thead>\n",
       "  <tbody>\n",
       "    <tr>\n",
       "      <th>0</th>\n",
       "      <td>PP</td>\n",
       "      <td>0.000000</td>\n",
       "    </tr>\n",
       "    <tr>\n",
       "      <th>1</th>\n",
       "      <td>LDPE</td>\n",
       "      <td>0.135862</td>\n",
       "    </tr>\n",
       "    <tr>\n",
       "      <th>2</th>\n",
       "      <td>HDPE</td>\n",
       "      <td>0.076173</td>\n",
       "    </tr>\n",
       "    <tr>\n",
       "      <th>3</th>\n",
       "      <td>N6</td>\n",
       "      <td>1.000000</td>\n",
       "    </tr>\n",
       "  </tbody>\n",
       "</table>\n",
       "</div>"
      ],
      "text/plain": [
       "  Material  Merit Function\n",
       "0       PP        0.000000\n",
       "1     LDPE        0.135862\n",
       "2     HDPE        0.076173\n",
       "3       N6        1.000000"
      ]
     },
     "execution_count": 15,
     "metadata": {},
     "output_type": "execute_result"
    }
   ],
   "source": [
    "# Show it as a Dataframe\n",
    "df_end = pd.DataFrame(Q)\n",
    "df_end.insert(0, \"Material\", alternatives)\n",
    "df_end.columns = [\"Material\",\"Merit Function\"]\n",
    "df_end"
   ]
  },
  {
   "cell_type": "code",
   "execution_count": 16,
   "metadata": {},
   "outputs": [
    {
     "data": {
      "text/html": [
       "<div>\n",
       "<style scoped>\n",
       "    .dataframe tbody tr th:only-of-type {\n",
       "        vertical-align: middle;\n",
       "    }\n",
       "\n",
       "    .dataframe tbody tr th {\n",
       "        vertical-align: top;\n",
       "    }\n",
       "\n",
       "    .dataframe thead th {\n",
       "        text-align: right;\n",
       "    }\n",
       "</style>\n",
       "<table border=\"1\" class=\"dataframe\">\n",
       "  <thead>\n",
       "    <tr style=\"text-align: right;\">\n",
       "      <th></th>\n",
       "      <th>Ranking</th>\n",
       "      <th>Material</th>\n",
       "      <th>Merit Function</th>\n",
       "    </tr>\n",
       "  </thead>\n",
       "  <tbody>\n",
       "    <tr>\n",
       "      <th>0</th>\n",
       "      <td>1</td>\n",
       "      <td>PP</td>\n",
       "      <td>0.000000</td>\n",
       "    </tr>\n",
       "    <tr>\n",
       "      <th>2</th>\n",
       "      <td>2</td>\n",
       "      <td>HDPE</td>\n",
       "      <td>0.076173</td>\n",
       "    </tr>\n",
       "    <tr>\n",
       "      <th>1</th>\n",
       "      <td>3</td>\n",
       "      <td>LDPE</td>\n",
       "      <td>0.135862</td>\n",
       "    </tr>\n",
       "    <tr>\n",
       "      <th>3</th>\n",
       "      <td>4</td>\n",
       "      <td>N6</td>\n",
       "      <td>1.000000</td>\n",
       "    </tr>\n",
       "  </tbody>\n",
       "</table>\n",
       "</div>"
      ],
      "text/plain": [
       "   Ranking Material  Merit Function\n",
       "0        1       PP        0.000000\n",
       "2        2     HDPE        0.076173\n",
       "1        3     LDPE        0.135862\n",
       "3        4       N6        1.000000"
      ]
     },
     "execution_count": 16,
     "metadata": {},
     "output_type": "execute_result"
    }
   ],
   "source": [
    "df_end = df_end.sort_values(by=[\"Merit Function\"], ascending = True)\n",
    "df_end.insert(0, \"Ranking\", list(range(1,len(alternatives)+1)))\n",
    "df_end"
   ]
  }
 ],
 "metadata": {
  "kernelspec": {
   "display_name": "Python 3",
   "language": "python",
   "name": "python3"
  },
  "language_info": {
   "codemirror_mode": {
    "name": "ipython",
    "version": 3
   },
   "file_extension": ".py",
   "mimetype": "text/x-python",
   "name": "python",
   "nbconvert_exporter": "python",
   "pygments_lexer": "ipython3",
   "version": "3.8.8"
  }
 },
 "nbformat": 4,
 "nbformat_minor": 2
}
