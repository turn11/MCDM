{
 "cells": [
  {
   "cell_type": "markdown",
   "metadata": {},
   "source": [
    "### Import Libraries"
   ]
  },
  {
   "cell_type": "code",
   "execution_count": 1,
   "metadata": {},
   "outputs": [],
   "source": [
    "import pandas as pd # Dataset operations\n",
    "import numpy as np # math and array operations\n",
    "import scipy.linalg as la"
   ]
  },
  {
   "cell_type": "markdown",
   "metadata": {},
   "source": [
    "### Import Dataset\n",
    "Import dataset with the following columns:\n",
    "- Propierties\n",
    "- Units\n",
    "- Max or Min Criteria\n",
    "- Next columns are for each material with its properties values"
   ]
  },
  {
   "cell_type": "code",
   "execution_count": 2,
   "metadata": {},
   "outputs": [
    {
     "data": {
      "text/html": [
       "<div>\n",
       "<style scoped>\n",
       "    .dataframe tbody tr th:only-of-type {\n",
       "        vertical-align: middle;\n",
       "    }\n",
       "\n",
       "    .dataframe tbody tr th {\n",
       "        vertical-align: top;\n",
       "    }\n",
       "\n",
       "    .dataframe thead th {\n",
       "        text-align: right;\n",
       "    }\n",
       "</style>\n",
       "<table border=\"1\" class=\"dataframe\">\n",
       "  <thead>\n",
       "    <tr style=\"text-align: right;\">\n",
       "      <th></th>\n",
       "      <th>Propiedad</th>\n",
       "      <th>Unidades</th>\n",
       "      <th>Criterio</th>\n",
       "      <th>PP</th>\n",
       "      <th>LDPE</th>\n",
       "      <th>HDPE</th>\n",
       "      <th>N6</th>\n",
       "    </tr>\n",
       "  </thead>\n",
       "  <tbody>\n",
       "    <tr>\n",
       "      <th>0</th>\n",
       "      <td>Esfuerzo fluencia</td>\n",
       "      <td>Mpa</td>\n",
       "      <td>Max</td>\n",
       "      <td>41.40</td>\n",
       "      <td>78.000</td>\n",
       "      <td>38.00</td>\n",
       "      <td>79.00</td>\n",
       "    </tr>\n",
       "    <tr>\n",
       "      <th>1</th>\n",
       "      <td>Módulo de elasticidad</td>\n",
       "      <td>Gpa</td>\n",
       "      <td>Max</td>\n",
       "      <td>1.77</td>\n",
       "      <td>0.380</td>\n",
       "      <td>1.50</td>\n",
       "      <td>2.90</td>\n",
       "    </tr>\n",
       "    <tr>\n",
       "      <th>2</th>\n",
       "      <td>Densidad</td>\n",
       "      <td>g/cm^3</td>\n",
       "      <td>Min</td>\n",
       "      <td>0.92</td>\n",
       "      <td>0.925</td>\n",
       "      <td>0.96</td>\n",
       "      <td>1.14</td>\n",
       "    </tr>\n",
       "    <tr>\n",
       "      <th>3</th>\n",
       "      <td>Absorción de agua</td>\n",
       "      <td>%</td>\n",
       "      <td>Min</td>\n",
       "      <td>0.02</td>\n",
       "      <td>0.015</td>\n",
       "      <td>0.20</td>\n",
       "      <td>1.80</td>\n",
       "    </tr>\n",
       "    <tr>\n",
       "      <th>4</th>\n",
       "      <td>Costo de la materia prima</td>\n",
       "      <td>USD/kg</td>\n",
       "      <td>Min</td>\n",
       "      <td>0.97</td>\n",
       "      <td>1.060</td>\n",
       "      <td>0.90</td>\n",
       "      <td>2.10</td>\n",
       "    </tr>\n",
       "  </tbody>\n",
       "</table>\n",
       "</div>"
      ],
      "text/plain": [
       "                   Propiedad Unidades Criterio     PP    LDPE   HDPE     N6\n",
       "0          Esfuerzo fluencia      Mpa      Max  41.40  78.000  38.00  79.00\n",
       "1      Módulo de elasticidad      Gpa      Max   1.77   0.380   1.50   2.90\n",
       "2                   Densidad   g/cm^3      Min   0.92   0.925   0.96   1.14\n",
       "3          Absorción de agua        %      Min   0.02   0.015   0.20   1.80\n",
       "4  Costo de la materia prima   USD/kg      Min   0.97   1.060   0.90   2.10"
      ]
     },
     "execution_count": 2,
     "metadata": {},
     "output_type": "execute_result"
    }
   ],
   "source": [
    "df = pd.read_excel(\"Materiales.xlsx\")\n",
    "df.head()"
   ]
  },
  {
   "cell_type": "code",
   "execution_count": 3,
   "metadata": {},
   "outputs": [
    {
     "data": {
      "text/plain": [
       "['Esfuerzo fluencia',\n",
       " 'Módulo de elasticidad',\n",
       " 'Densidad',\n",
       " 'Absorción de agua',\n",
       " 'Costo de la materia prima']"
      ]
     },
     "execution_count": 3,
     "metadata": {},
     "output_type": "execute_result"
    }
   ],
   "source": [
    "# List of criterias\n",
    "criterias = df[\"Propiedad\"].tolist()\n",
    "criterias"
   ]
  },
  {
   "cell_type": "code",
   "execution_count": 4,
   "metadata": {},
   "outputs": [
    {
     "data": {
      "text/plain": [
       "['PP', 'LDPE', 'HDPE', 'N6']"
      ]
     },
     "execution_count": 4,
     "metadata": {},
     "output_type": "execute_result"
    }
   ],
   "source": [
    "# List of alternatives\n",
    "alternatives =  df.columns.tolist()[3:]\n",
    "alternatives"
   ]
  },
  {
   "cell_type": "markdown",
   "metadata": {},
   "source": [
    "# AHP"
   ]
  },
  {
   "cell_type": "markdown",
   "metadata": {},
   "source": [
    "### Paired Matrix"
   ]
  },
  {
   "cell_type": "code",
   "execution_count": 5,
   "metadata": {},
   "outputs": [],
   "source": [
    "def paired_matrix(names):\n",
    "    size = len(names) # Length of the list of criterias/alternatives\n",
    "    M = np.zeros((size,size),dtype=object) # Zeros matrix to save the paired comparisons\n",
    "    cont = 1 # counter to compare each pair of criterias/alternatives once\n",
    "    \n",
    "    for i in range(size):\n",
    "        for j in range(cont,size):\n",
    "            M[i,j] = str(input(\"Paired comparsion between {} & {}: \".format(names[i],names[j])))\n",
    "           \n",
    "            if \"/\" in M[i,j]: # Numbers input as fraction\n",
    "                num, den = M[i,j].split(\"/\")\n",
    "                M[i,j] = int(num)/int(den)\n",
    "                M[j,i] = int(den)/int(num)\n",
    "            else:\n",
    "                M[i,j] = float(M[i,j]) # Str to float\n",
    "                M[j,i] = float(1/M[i,j])\n",
    "                \n",
    "        cont +=1\n",
    "        \n",
    "    np.fill_diagonal(M, 1) # Fill diagonal with 1\n",
    "    \n",
    "    return M.astype(float)"
   ]
  },
  {
   "cell_type": "markdown",
   "metadata": {},
   "source": [
    "### Lambda function"
   ]
  },
  {
   "cell_type": "code",
   "execution_count": 6,
   "metadata": {},
   "outputs": [],
   "source": [
    "def lambda_function(matrix):\n",
    "    vals, vects = la.eig(matrix) # Eigenvalues and eigenvectors\n",
    "    maxcol = list(vals).index(max(vals)) # Column with max eigenvalues\n",
    "    eigenvect = np.real(vects[:,maxcol]) # Getting the maxeigenvalues of the eigenvectors (Real part)\n",
    "    lambda_values = eigenvect/sum(eigenvect) # Eigenvalues normalized 0-1\n",
    "    return lambda_values"
   ]
  },
  {
   "cell_type": "markdown",
   "metadata": {},
   "source": [
    "### Consistency criteria function"
   ]
  },
  {
   "cell_type": "code",
   "execution_count": 7,
   "metadata": {},
   "outputs": [],
   "source": [
    "def consistency(matrix,lamb):\n",
    "    P = matrix.sum(axis=0) # Sum matrix columns\n",
    "    lambda_max = np.dot(P, lamb) # Dot product between P and Lambda values\n",
    "    n = len(matrix) # Number of criterias/alternatives\n",
    "    CI = (lambda_max-n)/(n-1) # Consitency index\n",
    "    RI = [0, 0, 0.58, 0.89, 1.12, 1.26, 1.36, 1.41, 1.42, 1.49, 1.52, 1.54, 1.56, 1.58] # Random consitency index\n",
    "    CR = CI/RI[n-1] # Consitency rate\n",
    "    return CR"
   ]
  },
  {
   "cell_type": "markdown",
   "metadata": {},
   "source": [
    "### Criterias Matrix"
   ]
  },
  {
   "cell_type": "code",
   "execution_count": 8,
   "metadata": {},
   "outputs": [
    {
     "name": "stdout",
     "output_type": "stream",
     "text": [
      "Paired comparsion between Esfuerzo fluencia & Módulo de elasticidad: 1/5\n",
      "Paired comparsion between Esfuerzo fluencia & Densidad: 1/7\n",
      "Paired comparsion between Esfuerzo fluencia & Absorción de agua: 1\n",
      "Paired comparsion between Esfuerzo fluencia & Costo de la materia prima: 1/7\n",
      "Paired comparsion between Módulo de elasticidad & Densidad: 1/3\n",
      "Paired comparsion between Módulo de elasticidad & Absorción de agua: 5\n",
      "Paired comparsion between Módulo de elasticidad & Costo de la materia prima: 1/5\n",
      "Paired comparsion between Densidad & Absorción de agua: 5\n",
      "Paired comparsion between Densidad & Costo de la materia prima: 1\n",
      "Paired comparsion between Absorción de agua & Costo de la materia prima: 1/9\n",
      " \n",
      "[('Esfuerzo fluencia', 0.04354949761432059), ('Módulo de elasticidad', 0.1512755846415514), ('Densidad', 0.33415358138113027), ('Absorción de agua', 0.044615414191505234), ('Costo de la materia prima', 0.42640592217149254)]\n",
      " \n",
      "The matrix is consistent with a value of 0.048 or 4.78%\n",
      " \n",
      "[[1.         0.2        0.14285714 1.         0.14285714]\n",
      " [5.         1.         0.33333333 5.         0.2       ]\n",
      " [7.         3.         1.         5.         1.        ]\n",
      " [1.         0.2        0.2        1.         0.11111111]\n",
      " [7.         5.         1.         9.         1.        ]]\n",
      " \n"
     ]
    }
   ],
   "source": [
    "condition = True # Condition of consistency\n",
    "\n",
    "while condition:\n",
    "    \n",
    "    m_cri = paired_matrix(criterias) # Paired matrix\n",
    "    \n",
    "    lambda_cri = lambda_function(m_cri) # Max eigenvalues of criterias\n",
    "    \n",
    "    print(\" \")\n",
    "    print(list(zip(criterias,lambda_cri))) # Zip criterias and eigenvalues\n",
    "    \n",
    "    CR = consistency(m_cri,lambda_cri) # Consistency test\n",
    "    \n",
    "    if CR <= 0.1:\n",
    "        print(\" \")\n",
    "        print(\"The matrix is consistent with a value of {:.3f} or {:.2f}%\".format(CR,CR*100))\n",
    "        print(\" \")\n",
    "        print(m_cri)\n",
    "        print(\" \")\n",
    "        condition = False\n",
    "    else:\n",
    "        print(\" \")\n",
    "        print(\"The matrix is NOT consistent with a value of {:.3f} or {:.2f}%\".format(CR,CR*100))\n",
    "        print(\"Review the paired comparison values\")\n",
    "        print(\" \")\n",
    "        print(m_cri)\n",
    "        print(\" \")"
   ]
  },
  {
   "cell_type": "code",
   "execution_count": 9,
   "metadata": {},
   "outputs": [
    {
     "data": {
      "text/html": [
       "<div>\n",
       "<style scoped>\n",
       "    .dataframe tbody tr th:only-of-type {\n",
       "        vertical-align: middle;\n",
       "    }\n",
       "\n",
       "    .dataframe tbody tr th {\n",
       "        vertical-align: top;\n",
       "    }\n",
       "\n",
       "    .dataframe thead th {\n",
       "        text-align: right;\n",
       "    }\n",
       "</style>\n",
       "<table border=\"1\" class=\"dataframe\">\n",
       "  <thead>\n",
       "    <tr style=\"text-align: right;\">\n",
       "      <th></th>\n",
       "      <th>Propiedad</th>\n",
       "      <th>Esfuerzo fluencia</th>\n",
       "      <th>Módulo de elasticidad</th>\n",
       "      <th>Densidad</th>\n",
       "      <th>Absorción de agua</th>\n",
       "      <th>Costo de la materia prima</th>\n",
       "    </tr>\n",
       "  </thead>\n",
       "  <tbody>\n",
       "    <tr>\n",
       "      <th>0</th>\n",
       "      <td>Esfuerzo fluencia</td>\n",
       "      <td>1.0</td>\n",
       "      <td>0.2</td>\n",
       "      <td>0.142857</td>\n",
       "      <td>1.0</td>\n",
       "      <td>0.142857</td>\n",
       "    </tr>\n",
       "    <tr>\n",
       "      <th>1</th>\n",
       "      <td>Módulo de elasticidad</td>\n",
       "      <td>5.0</td>\n",
       "      <td>1.0</td>\n",
       "      <td>0.333333</td>\n",
       "      <td>5.0</td>\n",
       "      <td>0.200000</td>\n",
       "    </tr>\n",
       "    <tr>\n",
       "      <th>2</th>\n",
       "      <td>Densidad</td>\n",
       "      <td>7.0</td>\n",
       "      <td>3.0</td>\n",
       "      <td>1.000000</td>\n",
       "      <td>5.0</td>\n",
       "      <td>1.000000</td>\n",
       "    </tr>\n",
       "    <tr>\n",
       "      <th>3</th>\n",
       "      <td>Absorción de agua</td>\n",
       "      <td>1.0</td>\n",
       "      <td>0.2</td>\n",
       "      <td>0.200000</td>\n",
       "      <td>1.0</td>\n",
       "      <td>0.111111</td>\n",
       "    </tr>\n",
       "    <tr>\n",
       "      <th>4</th>\n",
       "      <td>Costo de la materia prima</td>\n",
       "      <td>7.0</td>\n",
       "      <td>5.0</td>\n",
       "      <td>1.000000</td>\n",
       "      <td>9.0</td>\n",
       "      <td>1.000000</td>\n",
       "    </tr>\n",
       "  </tbody>\n",
       "</table>\n",
       "</div>"
      ],
      "text/plain": [
       "                   Propiedad  Esfuerzo fluencia  Módulo de elasticidad  \\\n",
       "0          Esfuerzo fluencia                1.0                    0.2   \n",
       "1      Módulo de elasticidad                5.0                    1.0   \n",
       "2                   Densidad                7.0                    3.0   \n",
       "3          Absorción de agua                1.0                    0.2   \n",
       "4  Costo de la materia prima                7.0                    5.0   \n",
       "\n",
       "   Densidad  Absorción de agua  Costo de la materia prima  \n",
       "0  0.142857                1.0                   0.142857  \n",
       "1  0.333333                5.0                   0.200000  \n",
       "2  1.000000                5.0                   1.000000  \n",
       "3  0.200000                1.0                   0.111111  \n",
       "4  1.000000                9.0                   1.000000  "
      ]
     },
     "execution_count": 9,
     "metadata": {},
     "output_type": "execute_result"
    }
   ],
   "source": [
    "# Show it as a Dataframe\n",
    "df_cri = pd.DataFrame(m_cri)\n",
    "df_cri.insert(0, \"Propiedad\", criterias)\n",
    "df_cri.columns = [\"Propiedad\"] + criterias\n",
    "df_cri"
   ]
  },
  {
   "cell_type": "markdown",
   "metadata": {},
   "source": [
    "### Alternatives Matrices"
   ]
  },
  {
   "cell_type": "code",
   "execution_count": 10,
   "metadata": {},
   "outputs": [
    {
     "name": "stdout",
     "output_type": "stream",
     "text": [
      "\u001b[1m Esfuerzo fluencia \u001b[0m\n",
      "Paired comparsion between PP & LDPE: 1/7\n",
      "Paired comparsion between PP & HDPE: 2\n",
      "Paired comparsion between PP & N6: 1/7\n",
      "Paired comparsion between LDPE & HDPE: 7\n",
      "Paired comparsion between LDPE & N6: 1\n",
      "Paired comparsion between HDPE & N6: 1/7\n",
      " \n",
      "[('PP', 0.07531373019088676), ('LDPE', 0.43584794485493544), ('HDPE', 0.05299038009924251), ('N6', 0.43584794485493544)]\n",
      " \n",
      "The matrix is consistent with a value of 0.023 or 2.27%\n",
      " \n",
      "[[1.         0.14285714 2.         0.14285714]\n",
      " [7.         1.         7.         1.        ]\n",
      " [0.5        0.14285714 1.         0.14285714]\n",
      " [7.         1.         7.         1.        ]]\n",
      " \n",
      "\u001b[1m Módulo de elasticidad \u001b[0m\n",
      "Paired comparsion between PP & LDPE: 7\n",
      "Paired comparsion between PP & HDPE: 2\n",
      "Paired comparsion between PP & N6: 1/5\n",
      "Paired comparsion between LDPE & HDPE: 1/5\n",
      "Paired comparsion between LDPE & N6: 1/9\n",
      "Paired comparsion between HDPE & N6: 1/7\n",
      " \n",
      "[('PP', 0.1932288612232936), ('LDPE', 0.03791034395149584), ('HDPE', 0.11654965723339464), ('N6', 0.652311137591816)]\n",
      " \n",
      "The matrix is consistent with a value of 0.095 or 9.55%\n",
      " \n",
      "[[1.         7.         2.         0.2       ]\n",
      " [0.14285714 1.         0.2        0.11111111]\n",
      " [0.5        5.         1.         0.14285714]\n",
      " [5.         9.         7.         1.        ]]\n",
      " \n",
      "\u001b[1m Densidad \u001b[0m\n",
      "Paired comparsion between PP & LDPE: 2\n",
      "Paired comparsion between PP & HDPE: 3\n",
      "Paired comparsion between PP & N6: 7\n",
      "Paired comparsion between LDPE & HDPE: 2\n",
      "Paired comparsion between LDPE & N6: 5\n",
      "Paired comparsion between HDPE & N6: 3\n",
      " \n",
      "[('PP', 0.49053882673412186), ('LDPE', 0.287800771654042), ('HDPE', 0.1615491963534219), ('N6', 0.060111205258414256)]\n",
      " \n",
      "The matrix is consistent with a value of 0.007 or 0.72%\n",
      " \n",
      "[[1.         2.         3.         7.        ]\n",
      " [0.5        1.         2.         5.        ]\n",
      " [0.33333333 0.5        1.         3.        ]\n",
      " [0.14285714 0.2        0.33333333 1.        ]]\n",
      " \n",
      "\u001b[1m Absorción de agua \u001b[0m\n",
      "Paired comparsion between PP & LDPE: 1/2\n",
      "Paired comparsion between PP & HDPE: 5\n",
      "Paired comparsion between PP & N6: 9\n",
      "Paired comparsion between LDPE & HDPE: 5\n",
      "Paired comparsion between LDPE & N6: 9\n",
      "Paired comparsion between HDPE & N6: 5\n",
      " \n",
      "[('PP', 0.35440334725498746), ('LDPE', 0.49831615728990414), ('HDPE', 0.1106850406160246), ('N6', 0.03659545483908384)]\n",
      " \n",
      "The matrix is consistent with a value of 0.073 or 7.26%\n",
      " \n",
      "[[1.         0.5        5.         9.        ]\n",
      " [2.         1.         5.         9.        ]\n",
      " [0.2        0.2        1.         5.        ]\n",
      " [0.11111111 0.11111111 0.2        1.        ]]\n",
      " \n",
      "\u001b[1m Costo de la materia prima \u001b[0m\n",
      "Paired comparsion between PP & LDPE: 3\n",
      "Paired comparsion between PP & HDPE: 1/2\n",
      "Paired comparsion between PP & N6: 7\n",
      "Paired comparsion between LDPE & HDPE: 1/4\n",
      "Paired comparsion between LDPE & N6: 5\n",
      "Paired comparsion between HDPE & N6: 8\n",
      " \n",
      "[('PP', 0.31536507743640046), ('LDPE', 0.14338655050683916), ('HDPE', 0.4976798248515374), ('N6', 0.043568547205222914)]\n",
      " \n",
      "The matrix is consistent with a value of 0.045 or 4.50%\n",
      " \n",
      "[[1.         3.         0.5        7.        ]\n",
      " [0.33333333 1.         0.25       5.        ]\n",
      " [2.         4.         1.         8.        ]\n",
      " [0.14285714 0.2        0.125      1.        ]]\n",
      " \n"
     ]
    }
   ],
   "source": [
    "m_alt = np.zeros((len(criterias),len(alternatives),len(alternatives))) # Zeros hypermatrix to save each paired comparison\n",
    "lambda_alt = np.zeros((len(alternatives),len(criterias))) # Zeros matriz to save eigenvalues of alternatives\n",
    "\n",
    "for i in range(len(criterias)):\n",
    "    \n",
    "    print(\"\\033[1m {} \\033[0m\".format(criterias[i])) # Print name criteria\n",
    "    \n",
    "    condition = True # Condition of consistency\n",
    "    \n",
    "    while condition:\n",
    "        m_alt[i] = paired_matrix(alternatives) # Paired comparison\n",
    "        \n",
    "        lambda_alt[:,i] = lambda_function(m_alt[i]) # Max eigenvalues of criterias\n",
    "        \n",
    "        print(\" \")\n",
    "        print(list(zip(alternatives,lambda_alt[:,i]))) # Zip altenarives and eigenvalues\n",
    "              \n",
    "        CR = consistency(m_alt[i],lambda_alt[:,i]) # Consistency rate\n",
    "              \n",
    "        if CR <= 0.1:\n",
    "            print(\" \")\n",
    "            print(\"The matrix is consistent with a value of {:.3f} or {:.2f}%\".format(CR,CR*100))\n",
    "            print(\" \")\n",
    "            print(m_alt[i])\n",
    "            print(\" \")\n",
    "            condition = False\n",
    "        else:\n",
    "            print(\" \")\n",
    "            print(\"The matrix is NOT consistent with a value of {:.3f} or {:.2f}%\".format(CR,CR*100))\n",
    "            print(\"Review the paired comparison values\")\n",
    "            print(\" \")\n",
    "            print(m_alt[i])\n",
    "            print(\" \")\n",
    "        "
   ]
  },
  {
   "cell_type": "code",
   "execution_count": 11,
   "metadata": {},
   "outputs": [
    {
     "data": {
      "text/plain": [
       "array([[[1.        , 0.14285714, 2.        , 0.14285714],\n",
       "        [7.        , 1.        , 7.        , 1.        ],\n",
       "        [0.5       , 0.14285714, 1.        , 0.14285714],\n",
       "        [7.        , 1.        , 7.        , 1.        ]],\n",
       "\n",
       "       [[1.        , 7.        , 2.        , 0.2       ],\n",
       "        [0.14285714, 1.        , 0.2       , 0.11111111],\n",
       "        [0.5       , 5.        , 1.        , 0.14285714],\n",
       "        [5.        , 9.        , 7.        , 1.        ]],\n",
       "\n",
       "       [[1.        , 2.        , 3.        , 7.        ],\n",
       "        [0.5       , 1.        , 2.        , 5.        ],\n",
       "        [0.33333333, 0.5       , 1.        , 3.        ],\n",
       "        [0.14285714, 0.2       , 0.33333333, 1.        ]],\n",
       "\n",
       "       [[1.        , 0.5       , 5.        , 9.        ],\n",
       "        [2.        , 1.        , 5.        , 9.        ],\n",
       "        [0.2       , 0.2       , 1.        , 5.        ],\n",
       "        [0.11111111, 0.11111111, 0.2       , 1.        ]],\n",
       "\n",
       "       [[1.        , 3.        , 0.5       , 7.        ],\n",
       "        [0.33333333, 1.        , 0.25      , 5.        ],\n",
       "        [2.        , 4.        , 1.        , 8.        ],\n",
       "        [0.14285714, 0.2       , 0.125     , 1.        ]]])"
      ]
     },
     "execution_count": 11,
     "metadata": {},
     "output_type": "execute_result"
    }
   ],
   "source": [
    "m_alt # Paired comparison matrices for alternatives"
   ]
  },
  {
   "cell_type": "code",
   "execution_count": 12,
   "metadata": {},
   "outputs": [
    {
     "data": {
      "text/plain": [
       "array([[0.07531373, 0.19322886, 0.49053883, 0.35440335, 0.31536508],\n",
       "       [0.43584794, 0.03791034, 0.28780077, 0.49831616, 0.14338655],\n",
       "       [0.05299038, 0.11654966, 0.1615492 , 0.11068504, 0.49767982],\n",
       "       [0.43584794, 0.65231114, 0.06011121, 0.03659545, 0.04356855]])"
      ]
     },
     "execution_count": 12,
     "metadata": {},
     "output_type": "execute_result"
    }
   ],
   "source": [
    "lambda_alt # Max eigen values for each alternatives"
   ]
  },
  {
   "cell_type": "code",
   "execution_count": 13,
   "metadata": {},
   "outputs": [
    {
     "data": {
      "text/html": [
       "<div>\n",
       "<style scoped>\n",
       "    .dataframe tbody tr th:only-of-type {\n",
       "        vertical-align: middle;\n",
       "    }\n",
       "\n",
       "    .dataframe tbody tr th {\n",
       "        vertical-align: top;\n",
       "    }\n",
       "\n",
       "    .dataframe thead th {\n",
       "        text-align: right;\n",
       "    }\n",
       "</style>\n",
       "<table border=\"1\" class=\"dataframe\">\n",
       "  <thead>\n",
       "    <tr style=\"text-align: right;\">\n",
       "      <th></th>\n",
       "      <th>Material</th>\n",
       "      <th>Esfuerzo fluencia</th>\n",
       "      <th>Módulo de elasticidad</th>\n",
       "      <th>Densidad</th>\n",
       "      <th>Absorción de agua</th>\n",
       "      <th>Costo de la materia prima</th>\n",
       "    </tr>\n",
       "  </thead>\n",
       "  <tbody>\n",
       "    <tr>\n",
       "      <th>0</th>\n",
       "      <td>PP</td>\n",
       "      <td>0.075314</td>\n",
       "      <td>0.193229</td>\n",
       "      <td>0.490539</td>\n",
       "      <td>0.354403</td>\n",
       "      <td>0.315365</td>\n",
       "    </tr>\n",
       "    <tr>\n",
       "      <th>1</th>\n",
       "      <td>LDPE</td>\n",
       "      <td>0.435848</td>\n",
       "      <td>0.037910</td>\n",
       "      <td>0.287801</td>\n",
       "      <td>0.498316</td>\n",
       "      <td>0.143387</td>\n",
       "    </tr>\n",
       "    <tr>\n",
       "      <th>2</th>\n",
       "      <td>HDPE</td>\n",
       "      <td>0.052990</td>\n",
       "      <td>0.116550</td>\n",
       "      <td>0.161549</td>\n",
       "      <td>0.110685</td>\n",
       "      <td>0.497680</td>\n",
       "    </tr>\n",
       "    <tr>\n",
       "      <th>3</th>\n",
       "      <td>N6</td>\n",
       "      <td>0.435848</td>\n",
       "      <td>0.652311</td>\n",
       "      <td>0.060111</td>\n",
       "      <td>0.036595</td>\n",
       "      <td>0.043569</td>\n",
       "    </tr>\n",
       "  </tbody>\n",
       "</table>\n",
       "</div>"
      ],
      "text/plain": [
       "  Material  Esfuerzo fluencia  Módulo de elasticidad  Densidad  \\\n",
       "0       PP           0.075314               0.193229  0.490539   \n",
       "1     LDPE           0.435848               0.037910  0.287801   \n",
       "2     HDPE           0.052990               0.116550  0.161549   \n",
       "3       N6           0.435848               0.652311  0.060111   \n",
       "\n",
       "   Absorción de agua  Costo de la materia prima  \n",
       "0           0.354403                   0.315365  \n",
       "1           0.498316                   0.143387  \n",
       "2           0.110685                   0.497680  \n",
       "3           0.036595                   0.043569  "
      ]
     },
     "execution_count": 13,
     "metadata": {},
     "output_type": "execute_result"
    }
   ],
   "source": [
    "# Show it as a Dataframe\n",
    "df_alt = pd.DataFrame(lambda_alt)\n",
    "df_alt.insert(0, \"Material\", alternatives)\n",
    "df_alt.columns = [\"Material\"] + criterias\n",
    "df_alt"
   ]
  },
  {
   "cell_type": "code",
   "execution_count": 14,
   "metadata": {},
   "outputs": [
    {
     "data": {
      "text/plain": [
       "array([[0.34671138],\n",
       "       [0.20425898],\n",
       "       [0.29107295],\n",
       "       [0.15795669]])"
      ]
     },
     "execution_count": 14,
     "metadata": {},
     "output_type": "execute_result"
    }
   ],
   "source": [
    "score = np.zeros((len(alternatives),1))\n",
    "for i in range(len(alternatives)):\n",
    "    score[i] = np.dot(lambda_alt[i,:], lambda_cri)\n",
    "score"
   ]
  },
  {
   "cell_type": "markdown",
   "metadata": {},
   "source": [
    "### Results"
   ]
  },
  {
   "cell_type": "code",
   "execution_count": 20,
   "metadata": {},
   "outputs": [
    {
     "data": {
      "text/html": [
       "<div>\n",
       "<style scoped>\n",
       "    .dataframe tbody tr th:only-of-type {\n",
       "        vertical-align: middle;\n",
       "    }\n",
       "\n",
       "    .dataframe tbody tr th {\n",
       "        vertical-align: top;\n",
       "    }\n",
       "\n",
       "    .dataframe thead th {\n",
       "        text-align: right;\n",
       "    }\n",
       "</style>\n",
       "<table border=\"1\" class=\"dataframe\">\n",
       "  <thead>\n",
       "    <tr style=\"text-align: right;\">\n",
       "      <th></th>\n",
       "      <th>Material</th>\n",
       "      <th>Score</th>\n",
       "    </tr>\n",
       "  </thead>\n",
       "  <tbody>\n",
       "    <tr>\n",
       "      <th>0</th>\n",
       "      <td>PP</td>\n",
       "      <td>0.346711</td>\n",
       "    </tr>\n",
       "    <tr>\n",
       "      <th>1</th>\n",
       "      <td>LDPE</td>\n",
       "      <td>0.204259</td>\n",
       "    </tr>\n",
       "    <tr>\n",
       "      <th>2</th>\n",
       "      <td>HDPE</td>\n",
       "      <td>0.291073</td>\n",
       "    </tr>\n",
       "    <tr>\n",
       "      <th>3</th>\n",
       "      <td>N6</td>\n",
       "      <td>0.157957</td>\n",
       "    </tr>\n",
       "  </tbody>\n",
       "</table>\n",
       "</div>"
      ],
      "text/plain": [
       "  Material     Score\n",
       "0       PP  0.346711\n",
       "1     LDPE  0.204259\n",
       "2     HDPE  0.291073\n",
       "3       N6  0.157957"
      ]
     },
     "execution_count": 20,
     "metadata": {},
     "output_type": "execute_result"
    }
   ],
   "source": [
    "# Show it as a Dataframe\n",
    "df_end = pd.DataFrame(score)\n",
    "df_end.insert(0, \"Material\", alternatives)\n",
    "df_end.columns = [\"Material\",\"Score\"]\n",
    "df_end"
   ]
  },
  {
   "cell_type": "code",
   "execution_count": 21,
   "metadata": {},
   "outputs": [
    {
     "data": {
      "text/html": [
       "<div>\n",
       "<style scoped>\n",
       "    .dataframe tbody tr th:only-of-type {\n",
       "        vertical-align: middle;\n",
       "    }\n",
       "\n",
       "    .dataframe tbody tr th {\n",
       "        vertical-align: top;\n",
       "    }\n",
       "\n",
       "    .dataframe thead th {\n",
       "        text-align: right;\n",
       "    }\n",
       "</style>\n",
       "<table border=\"1\" class=\"dataframe\">\n",
       "  <thead>\n",
       "    <tr style=\"text-align: right;\">\n",
       "      <th></th>\n",
       "      <th>Ranking</th>\n",
       "      <th>Material</th>\n",
       "      <th>Score</th>\n",
       "    </tr>\n",
       "  </thead>\n",
       "  <tbody>\n",
       "    <tr>\n",
       "      <th>0</th>\n",
       "      <td>1</td>\n",
       "      <td>PP</td>\n",
       "      <td>0.346711</td>\n",
       "    </tr>\n",
       "    <tr>\n",
       "      <th>2</th>\n",
       "      <td>2</td>\n",
       "      <td>HDPE</td>\n",
       "      <td>0.291073</td>\n",
       "    </tr>\n",
       "    <tr>\n",
       "      <th>1</th>\n",
       "      <td>3</td>\n",
       "      <td>LDPE</td>\n",
       "      <td>0.204259</td>\n",
       "    </tr>\n",
       "    <tr>\n",
       "      <th>3</th>\n",
       "      <td>4</td>\n",
       "      <td>N6</td>\n",
       "      <td>0.157957</td>\n",
       "    </tr>\n",
       "  </tbody>\n",
       "</table>\n",
       "</div>"
      ],
      "text/plain": [
       "   Ranking Material     Score\n",
       "0        1       PP  0.346711\n",
       "2        2     HDPE  0.291073\n",
       "1        3     LDPE  0.204259\n",
       "3        4       N6  0.157957"
      ]
     },
     "execution_count": 21,
     "metadata": {},
     "output_type": "execute_result"
    }
   ],
   "source": [
    "df_end = df_end.sort_values(by=[\"Score\"], ascending = False)\n",
    "df_end.insert(0, \"Ranking\", list(range(1,len(alternatives)+1)))\n",
    "df_end"
   ]
  }
 ],
 "metadata": {
  "kernelspec": {
   "display_name": "Python 3",
   "language": "python",
   "name": "python3"
  },
  "language_info": {
   "codemirror_mode": {
    "name": "ipython",
    "version": 3
   },
   "file_extension": ".py",
   "mimetype": "text/x-python",
   "name": "python",
   "nbconvert_exporter": "python",
   "pygments_lexer": "ipython3",
   "version": "3.8.8"
  }
 },
 "nbformat": 4,
 "nbformat_minor": 2
}
