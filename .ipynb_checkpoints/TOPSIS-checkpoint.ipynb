{
 "cells": [
  {
   "cell_type": "markdown",
   "metadata": {},
   "source": [
    "### Import Libraries"
   ]
  },
  {
   "cell_type": "code",
   "execution_count": 2,
   "metadata": {},
   "outputs": [],
   "source": [
    "import pandas as pd # Dataset operations\n",
    "import numpy as np # math and array operations"
   ]
  },
  {
   "cell_type": "markdown",
   "metadata": {},
   "source": [
    "### Import Dataset\n",
    "Import dataset with the following columns:\n",
    "- Propierties\n",
    "- Units\n",
    "- Max or Min Criteria\n",
    "- Next columns are for each material with its properties values"
   ]
  },
  {
   "cell_type": "code",
   "execution_count": 3,
   "metadata": {},
   "outputs": [
    {
     "data": {
      "text/html": [
       "<div>\n",
       "<style scoped>\n",
       "    .dataframe tbody tr th:only-of-type {\n",
       "        vertical-align: middle;\n",
       "    }\n",
       "\n",
       "    .dataframe tbody tr th {\n",
       "        vertical-align: top;\n",
       "    }\n",
       "\n",
       "    .dataframe thead th {\n",
       "        text-align: right;\n",
       "    }\n",
       "</style>\n",
       "<table border=\"1\" class=\"dataframe\">\n",
       "  <thead>\n",
       "    <tr style=\"text-align: right;\">\n",
       "      <th></th>\n",
       "      <th>Propiedad</th>\n",
       "      <th>Unidades</th>\n",
       "      <th>Criterio</th>\n",
       "      <th>PP</th>\n",
       "      <th>LDPE</th>\n",
       "      <th>HDPE</th>\n",
       "      <th>N6</th>\n",
       "    </tr>\n",
       "  </thead>\n",
       "  <tbody>\n",
       "    <tr>\n",
       "      <th>0</th>\n",
       "      <td>Esfuerzo fluencia</td>\n",
       "      <td>Mpa</td>\n",
       "      <td>Max</td>\n",
       "      <td>41.40</td>\n",
       "      <td>78.000</td>\n",
       "      <td>38.00</td>\n",
       "      <td>79.00</td>\n",
       "    </tr>\n",
       "    <tr>\n",
       "      <th>1</th>\n",
       "      <td>Módulo de elasticidad</td>\n",
       "      <td>Gpa</td>\n",
       "      <td>Max</td>\n",
       "      <td>1.77</td>\n",
       "      <td>0.380</td>\n",
       "      <td>1.50</td>\n",
       "      <td>2.90</td>\n",
       "    </tr>\n",
       "    <tr>\n",
       "      <th>2</th>\n",
       "      <td>Densidad</td>\n",
       "      <td>g/cm^3</td>\n",
       "      <td>Min</td>\n",
       "      <td>0.92</td>\n",
       "      <td>0.925</td>\n",
       "      <td>0.96</td>\n",
       "      <td>1.14</td>\n",
       "    </tr>\n",
       "    <tr>\n",
       "      <th>3</th>\n",
       "      <td>Absorción de agua</td>\n",
       "      <td>%</td>\n",
       "      <td>Min</td>\n",
       "      <td>0.02</td>\n",
       "      <td>0.015</td>\n",
       "      <td>0.20</td>\n",
       "      <td>1.80</td>\n",
       "    </tr>\n",
       "    <tr>\n",
       "      <th>4</th>\n",
       "      <td>Costo de la materia prima</td>\n",
       "      <td>USD/kg</td>\n",
       "      <td>Min</td>\n",
       "      <td>0.97</td>\n",
       "      <td>1.060</td>\n",
       "      <td>0.90</td>\n",
       "      <td>2.10</td>\n",
       "    </tr>\n",
       "  </tbody>\n",
       "</table>\n",
       "</div>"
      ],
      "text/plain": [
       "                   Propiedad Unidades Criterio     PP    LDPE   HDPE     N6\n",
       "0          Esfuerzo fluencia      Mpa      Max  41.40  78.000  38.00  79.00\n",
       "1      Módulo de elasticidad      Gpa      Max   1.77   0.380   1.50   2.90\n",
       "2                   Densidad   g/cm^3      Min   0.92   0.925   0.96   1.14\n",
       "3          Absorción de agua        %      Min   0.02   0.015   0.20   1.80\n",
       "4  Costo de la materia prima   USD/kg      Min   0.97   1.060   0.90   2.10"
      ]
     },
     "execution_count": 3,
     "metadata": {},
     "output_type": "execute_result"
    }
   ],
   "source": [
    "df = pd.read_excel(\"Materiales.xlsx\")\n",
    "df.head()"
   ]
  },
  {
   "cell_type": "code",
   "execution_count": 4,
   "metadata": {},
   "outputs": [
    {
     "data": {
      "text/plain": [
       "['Esfuerzo fluencia',\n",
       " 'Módulo de elasticidad',\n",
       " 'Densidad',\n",
       " 'Absorción de agua',\n",
       " 'Costo de la materia prima']"
      ]
     },
     "execution_count": 4,
     "metadata": {},
     "output_type": "execute_result"
    }
   ],
   "source": [
    "# List of criterias\n",
    "criterias = df[\"Propiedad\"].tolist()\n",
    "criterias"
   ]
  },
  {
   "cell_type": "code",
   "execution_count": 5,
   "metadata": {},
   "outputs": [
    {
     "data": {
      "text/plain": [
       "['PP', 'LDPE', 'HDPE', 'N6']"
      ]
     },
     "execution_count": 5,
     "metadata": {},
     "output_type": "execute_result"
    }
   ],
   "source": [
    "# List of alternatives\n",
    "alternatives =  df.columns.tolist()[3:]\n",
    "alternatives"
   ]
  },
  {
   "cell_type": "code",
   "execution_count": 6,
   "metadata": {},
   "outputs": [
    {
     "data": {
      "text/plain": [
       "['Max', 'Max', 'Min', 'Min', 'Min']"
      ]
     },
     "execution_count": 6,
     "metadata": {},
     "output_type": "execute_result"
    }
   ],
   "source": [
    "# Max or min criterias\n",
    "maxmin = df[\"Criterio\"].tolist()\n",
    "maxmin"
   ]
  },
  {
   "cell_type": "markdown",
   "metadata": {},
   "source": [
    "# TOPSIS"
   ]
  },
  {
   "cell_type": "markdown",
   "metadata": {},
   "source": [
    "### Decisional matrix"
   ]
  },
  {
   "cell_type": "code",
   "execution_count": 7,
   "metadata": {},
   "outputs": [
    {
     "data": {
      "text/html": [
       "<div>\n",
       "<style scoped>\n",
       "    .dataframe tbody tr th:only-of-type {\n",
       "        vertical-align: middle;\n",
       "    }\n",
       "\n",
       "    .dataframe tbody tr th {\n",
       "        vertical-align: top;\n",
       "    }\n",
       "\n",
       "    .dataframe thead th {\n",
       "        text-align: right;\n",
       "    }\n",
       "</style>\n",
       "<table border=\"1\" class=\"dataframe\">\n",
       "  <thead>\n",
       "    <tr style=\"text-align: right;\">\n",
       "      <th></th>\n",
       "      <th>PP</th>\n",
       "      <th>LDPE</th>\n",
       "      <th>HDPE</th>\n",
       "      <th>N6</th>\n",
       "    </tr>\n",
       "  </thead>\n",
       "  <tbody>\n",
       "    <tr>\n",
       "      <th>0</th>\n",
       "      <td>41.40</td>\n",
       "      <td>78.000</td>\n",
       "      <td>38.00</td>\n",
       "      <td>79.00</td>\n",
       "    </tr>\n",
       "    <tr>\n",
       "      <th>1</th>\n",
       "      <td>1.77</td>\n",
       "      <td>0.380</td>\n",
       "      <td>1.50</td>\n",
       "      <td>2.90</td>\n",
       "    </tr>\n",
       "    <tr>\n",
       "      <th>2</th>\n",
       "      <td>0.92</td>\n",
       "      <td>0.925</td>\n",
       "      <td>0.96</td>\n",
       "      <td>1.14</td>\n",
       "    </tr>\n",
       "    <tr>\n",
       "      <th>3</th>\n",
       "      <td>0.02</td>\n",
       "      <td>0.015</td>\n",
       "      <td>0.20</td>\n",
       "      <td>1.80</td>\n",
       "    </tr>\n",
       "    <tr>\n",
       "      <th>4</th>\n",
       "      <td>0.97</td>\n",
       "      <td>1.060</td>\n",
       "      <td>0.90</td>\n",
       "      <td>2.10</td>\n",
       "    </tr>\n",
       "  </tbody>\n",
       "</table>\n",
       "</div>"
      ],
      "text/plain": [
       "      PP    LDPE   HDPE     N6\n",
       "0  41.40  78.000  38.00  79.00\n",
       "1   1.77   0.380   1.50   2.90\n",
       "2   0.92   0.925   0.96   1.14\n",
       "3   0.02   0.015   0.20   1.80\n",
       "4   0.97   1.060   0.90   2.10"
      ]
     },
     "execution_count": 7,
     "metadata": {},
     "output_type": "execute_result"
    }
   ],
   "source": [
    "df.pop(\"Unidades\") # Deleta Units column\n",
    "df.pop(\"Criterio\") # Delete max-min criteria colum\n",
    "df.pop(\"Propiedad\")# Delete properties column\n",
    "df"
   ]
  },
  {
   "cell_type": "code",
   "execution_count": 8,
   "metadata": {},
   "outputs": [
    {
     "data": {
      "text/html": [
       "<div>\n",
       "<style scoped>\n",
       "    .dataframe tbody tr th:only-of-type {\n",
       "        vertical-align: middle;\n",
       "    }\n",
       "\n",
       "    .dataframe tbody tr th {\n",
       "        vertical-align: top;\n",
       "    }\n",
       "\n",
       "    .dataframe thead th {\n",
       "        text-align: right;\n",
       "    }\n",
       "</style>\n",
       "<table border=\"1\" class=\"dataframe\">\n",
       "  <thead>\n",
       "    <tr style=\"text-align: right;\">\n",
       "      <th></th>\n",
       "      <th>Esfuerzo fluencia</th>\n",
       "      <th>Módulo de elasticidad</th>\n",
       "      <th>Densidad</th>\n",
       "      <th>Absorción de agua</th>\n",
       "      <th>Costo de la materia prima</th>\n",
       "    </tr>\n",
       "  </thead>\n",
       "  <tbody>\n",
       "    <tr>\n",
       "      <th>PP</th>\n",
       "      <td>41.4</td>\n",
       "      <td>1.77</td>\n",
       "      <td>0.920</td>\n",
       "      <td>0.020</td>\n",
       "      <td>0.97</td>\n",
       "    </tr>\n",
       "    <tr>\n",
       "      <th>LDPE</th>\n",
       "      <td>78.0</td>\n",
       "      <td>0.38</td>\n",
       "      <td>0.925</td>\n",
       "      <td>0.015</td>\n",
       "      <td>1.06</td>\n",
       "    </tr>\n",
       "    <tr>\n",
       "      <th>HDPE</th>\n",
       "      <td>38.0</td>\n",
       "      <td>1.50</td>\n",
       "      <td>0.960</td>\n",
       "      <td>0.200</td>\n",
       "      <td>0.90</td>\n",
       "    </tr>\n",
       "    <tr>\n",
       "      <th>N6</th>\n",
       "      <td>79.0</td>\n",
       "      <td>2.90</td>\n",
       "      <td>1.140</td>\n",
       "      <td>1.800</td>\n",
       "      <td>2.10</td>\n",
       "    </tr>\n",
       "  </tbody>\n",
       "</table>\n",
       "</div>"
      ],
      "text/plain": [
       "      Esfuerzo fluencia  Módulo de elasticidad  Densidad  Absorción de agua  \\\n",
       "PP                 41.4                   1.77     0.920              0.020   \n",
       "LDPE               78.0                   0.38     0.925              0.015   \n",
       "HDPE               38.0                   1.50     0.960              0.200   \n",
       "N6                 79.0                   2.90     1.140              1.800   \n",
       "\n",
       "      Costo de la materia prima  \n",
       "PP                         0.97  \n",
       "LDPE                       1.06  \n",
       "HDPE                       0.90  \n",
       "N6                         2.10  "
      ]
     },
     "execution_count": 8,
     "metadata": {},
     "output_type": "execute_result"
    }
   ],
   "source": [
    "df_decisional = df.T\n",
    "df_decisional.columns = criterias\n",
    "df_decisional"
   ]
  },
  {
   "cell_type": "code",
   "execution_count": 9,
   "metadata": {},
   "outputs": [
    {
     "data": {
      "text/plain": [
       "array([[41.4  ,  1.77 ,  0.92 ,  0.02 ,  0.97 ],\n",
       "       [78.   ,  0.38 ,  0.925,  0.015,  1.06 ],\n",
       "       [38.   ,  1.5  ,  0.96 ,  0.2  ,  0.9  ],\n",
       "       [79.   ,  2.9  ,  1.14 ,  1.8  ,  2.1  ]])"
      ]
     },
     "execution_count": 9,
     "metadata": {},
     "output_type": "execute_result"
    }
   ],
   "source": [
    "np.set_printoptions(suppress=True, precision=3) # Avoid scientific notation in numpy matrix and 3 decimal digits\n",
    "\n",
    "m_decisional = df_decisional.to_numpy() #Dataframe into numpy matrix\n",
    "m_decisional"
   ]
  },
  {
   "cell_type": "markdown",
   "metadata": {},
   "source": [
    "### r_ij^2 - 1/r_ij^2 Matrix"
   ]
  },
  {
   "cell_type": "markdown",
   "metadata": {},
   "source": [
    "#### Normalized - MAX\n",
    "$$x_{ij} = {r_{ij}\\over {\\sqrt{\\sum{r_{ij}^2}}}}$$"
   ]
  },
  {
   "cell_type": "markdown",
   "metadata": {},
   "source": [
    "#### Normalized - MIN\n",
    "$$x_{ij} = {{1\\over r_{ij}}\\over {\\sqrt{\\sum{{1\\over r_{ij}^2}}}}}$$"
   ]
  },
  {
   "cell_type": "code",
   "execution_count": 9,
   "metadata": {},
   "outputs": [
    {
     "name": "stdout",
     "output_type": "stream",
     "text": [
      "r_ij squared Matrix\n",
      "[[1713.96     3.133    1.181 2500.       1.063]\n",
      " [6084.       0.144    1.169 4444.444    0.89 ]\n",
      " [1444.       2.25     1.085   25.       1.235]\n",
      " [6241.       8.41     0.769    0.309    0.227]]\n",
      " \n",
      "Sum of each column\n",
      "[15482.96     13.937     4.205  6969.753     3.414]\n"
     ]
    }
   ],
   "source": [
    "m_rij = np.zeros((len(alternatives),len(criterias))) # Matrix to save r_ij^2 - 1/r_ij^2  values\n",
    "\n",
    "sum_column = np.zeros(len(criterias)) # Array to save columns sum\n",
    "\n",
    "for i in range(len(criterias)):\n",
    "    \n",
    "    if maxmin[i] == \"Max\":\n",
    "        m_rij[:,i] = m_decisional[:,i]**2\n",
    "        \n",
    "    elif maxmin[i] == \"Min\":\n",
    "        m_rij[:,i] = m_decisional[:,i]**-2\n",
    "    \n",
    "    sum_column[i] = np.sum(m_rij[:,i])\n",
    "\n",
    "print(\"r_ij squared Matrix\")\n",
    "print(m_rij)\n",
    "print(\" \")\n",
    "print(\"Sum of each column\")\n",
    "print(sum_column)"
   ]
  },
  {
   "cell_type": "markdown",
   "metadata": {},
   "source": [
    "### Normalized Matrix"
   ]
  },
  {
   "cell_type": "code",
   "execution_count": 10,
   "metadata": {},
   "outputs": [
    {
     "name": "stdout",
     "output_type": "stream",
     "text": [
      "[[0.333 0.474 0.53  0.599 0.558]\n",
      " [0.627 0.102 0.527 0.799 0.511]\n",
      " [0.305 0.402 0.508 0.06  0.601]\n",
      " [0.635 0.777 0.428 0.007 0.258]]\n"
     ]
    }
   ],
   "source": [
    "m_normalized = np.zeros((len(alternatives),len(criterias))) # Matrix to save normalized values\n",
    "\n",
    "for i in range(len(criterias)):\n",
    "    \n",
    "    if maxmin[i] == \"Max\":\n",
    "        m_normalized[:,i] = m_decisional[:,i]/np.sqrt(sum_column[i])\n",
    "        \n",
    "    elif maxmin[i] == \"Min\":\n",
    "        m_normalized[:,i] = (m_decisional[:,i]**-1)/np.sqrt(sum_column[i])\n",
    "\n",
    "print(m_normalized)"
   ]
  },
  {
   "cell_type": "markdown",
   "metadata": {},
   "source": [
    "### Weights"
   ]
  },
  {
   "cell_type": "code",
   "execution_count": 11,
   "metadata": {},
   "outputs": [
    {
     "name": "stdout",
     "output_type": "stream",
     "text": [
      "Weight of Esfuerzo fluencia: 0.1\n",
      "Weight of Módulo de elasticidad: 0.15\n",
      "Weight of Densidad: 0.3\n",
      "Weight of Absorción de agua: 0.1\n",
      "Weight of Costo de la materia prima: 0.35\n",
      " \n"
     ]
    },
    {
     "data": {
      "text/plain": [
       "[('Esfuerzo fluencia', 0.1),\n",
       " ('Módulo de elasticidad', 0.15),\n",
       " ('Densidad', 0.3),\n",
       " ('Absorción de agua', 0.1),\n",
       " ('Costo de la materia prima', 0.35)]"
      ]
     },
     "execution_count": 11,
     "metadata": {},
     "output_type": "execute_result"
    }
   ],
   "source": [
    "w = np.zeros(len(criterias)) # Array to save criterias' weight\n",
    "\n",
    "condition = True # Cndition sum weights = 1\n",
    " \n",
    "while condition:\n",
    "    \n",
    "    for i in range(len(criterias)):\n",
    "        w[i] = float(input(\"Weight of {}: \".format(criterias[i])))\n",
    "    \n",
    "    if np.sum(w) == 1:\n",
    "        condition = False\n",
    "    else:\n",
    "        print(\" \")\n",
    "        print(\"¡Sum of weights is different to 1, correct the values!\")\n",
    "\n",
    "print(\" \")\n",
    "list(zip(criterias,w))"
   ]
  },
  {
   "cell_type": "markdown",
   "metadata": {},
   "source": [
    "### Weighted matrix"
   ]
  },
  {
   "cell_type": "code",
   "execution_count": 12,
   "metadata": {},
   "outputs": [
    {
     "data": {
      "text/plain": [
       "array([[0.033, 0.071, 0.159, 0.06 , 0.195],\n",
       "       [0.063, 0.015, 0.158, 0.08 , 0.179],\n",
       "       [0.031, 0.06 , 0.152, 0.006, 0.21 ],\n",
       "       [0.063, 0.117, 0.128, 0.001, 0.09 ]])"
      ]
     },
     "execution_count": 12,
     "metadata": {},
     "output_type": "execute_result"
    }
   ],
   "source": [
    "m_weight = np.zeros((len(alternatives),len(criterias))) # Matrix to save weighted values\n",
    "\n",
    "for i in range(len(criterias)):\n",
    "    \n",
    "    m_weight[:,i] = m_normalized[:,i]*w[i]\n",
    "\n",
    "m_weight"
   ]
  },
  {
   "cell_type": "markdown",
   "metadata": {},
   "source": [
    "### Concordance"
   ]
  },
  {
   "cell_type": "code",
   "execution_count": 13,
   "metadata": {},
   "outputs": [
    {
     "data": {
      "text/plain": [
       "array([[0.  , 0.8 , 0.65, 0.75],\n",
       "       [0.2 , 0.  , 0.5 , 0.75],\n",
       "       [0.35, 0.5 , 0.  , 0.75],\n",
       "       [0.25, 0.25, 0.25, 0.  ]])"
      ]
     },
     "execution_count": 13,
     "metadata": {},
     "output_type": "execute_result"
    }
   ],
   "source": [
    "m_con = np.zeros((len(alternatives),len(alternatives))) # Matrix to save concordance values\n",
    "\n",
    "diff_con = np.ones(len(criterias)) # Array to save the difference between alternatives\n",
    "\n",
    "for i in range(len(alternatives)):\n",
    "    for j in range(len(alternatives)):\n",
    "        if i == j:\n",
    "            m_con[i,j] = 0 # Same material\n",
    "        else:\n",
    "            diff_con = m_weight[i,:] - m_weight[j,:]\n",
    "            for k in range(len(criterias)):\n",
    "                if diff_con[k]>0:\n",
    "                    m_con[i,j] = m_con[i,j] + w[k] # Positive difference\n",
    "                elif diff_con[k] == 0:\n",
    "                    m_con[i,j] = m_con[i,j] + w[k]/2 #Not difference\n",
    "                    \n",
    "m_con"
   ]
  },
  {
   "cell_type": "code",
   "execution_count": 14,
   "metadata": {},
   "outputs": [
    {
     "data": {
      "text/plain": [
       "0.5"
      ]
     },
     "execution_count": 14,
     "metadata": {},
     "output_type": "execute_result"
    }
   ],
   "source": [
    "# Threshold boundary Concordance\n",
    "UC = np.sum(m_con)/(len(alternatives)**2-len(alternatives))\n",
    "UC"
   ]
  },
  {
   "cell_type": "code",
   "execution_count": 15,
   "metadata": {},
   "outputs": [
    {
     "data": {
      "text/plain": [
       "array([[0., 1., 1., 1.],\n",
       "       [0., 0., 1., 1.],\n",
       "       [0., 1., 0., 1.],\n",
       "       [0., 0., 0., 0.]])"
      ]
     },
     "execution_count": 15,
     "metadata": {},
     "output_type": "execute_result"
    }
   ],
   "source": [
    "# Dominant concordance\n",
    "m_con_D = np.zeros((len(alternatives),len(alternatives))) # Matrix to save dominant concordance values\n",
    "\n",
    "for i in range(len(alternatives)):\n",
    "    for j in range(len(alternatives)):\n",
    "        \n",
    "        if m_con[i,j]>= UC:\n",
    "            m_con_D[i,j] = 1\n",
    "        \n",
    "        else:\n",
    "            m_con_D[i,j] = 0\n",
    "            \n",
    "m_con_D"
   ]
  },
  {
   "cell_type": "markdown",
   "metadata": {},
   "source": [
    "### Discordance"
   ]
  },
  {
   "cell_type": "code",
   "execution_count": 16,
   "metadata": {},
   "outputs": [
    {
     "data": {
      "text/plain": [
       "array([[0.   , 0.527, 0.282, 0.432],\n",
       "       [1.   , 0.   , 0.609, 1.   ],\n",
       "       [1.   , 1.   , 0.   , 0.468],\n",
       "       [1.   , 0.874, 1.   , 0.   ]])"
      ]
     },
     "execution_count": 16,
     "metadata": {},
     "output_type": "execute_result"
    }
   ],
   "source": [
    "m_dis = np.zeros((len(alternatives),len(alternatives))) # Matrix to save discordance values\n",
    "\n",
    "diff_dis = np.ones(len(criterias)) # Array to save the difference between alternatives\n",
    "\n",
    "MDN = None # Max negative difference\n",
    "MDT = None # Max total difference\n",
    "\n",
    "for i in range(len(alternatives)):\n",
    "    for j in range(len(alternatives)):\n",
    "        \n",
    "        if i == j:\n",
    "            m_dis[i,j] = 0 # Same material\n",
    "            \n",
    "        else:\n",
    "            \n",
    "            diff_dis = m_weight[i,:] - m_weight[j,:]\n",
    "            \n",
    "            MDN = min(diff_dis)\n",
    "            MDT = max(abs(diff_dis))\n",
    "            \n",
    "            if MDN >= 0:\n",
    "                m_dis[i,j] = 0\n",
    "            \n",
    "            else:\n",
    "                m_dis[i,j] = abs(MDN)/MDT\n",
    "\n",
    "                    \n",
    "m_dis"
   ]
  },
  {
   "cell_type": "code",
   "execution_count": 17,
   "metadata": {},
   "outputs": [
    {
     "data": {
      "text/plain": [
       "0.7659595458022436"
      ]
     },
     "execution_count": 17,
     "metadata": {},
     "output_type": "execute_result"
    }
   ],
   "source": [
    "# Threshold boundary discordance\n",
    "UD = np.sum(m_dis)/(len(alternatives)**2-len(alternatives))\n",
    "UD"
   ]
  },
  {
   "cell_type": "code",
   "execution_count": 18,
   "metadata": {},
   "outputs": [
    {
     "data": {
      "text/plain": [
       "array([[1., 1., 1., 1.],\n",
       "       [0., 1., 1., 0.],\n",
       "       [0., 0., 1., 1.],\n",
       "       [0., 0., 0., 1.]])"
      ]
     },
     "execution_count": 18,
     "metadata": {},
     "output_type": "execute_result"
    }
   ],
   "source": [
    "# Dominant discordance\n",
    "m_dis_D = np.zeros((len(alternatives),len(alternatives))) # Matrix to save dominant discordance values\n",
    "\n",
    "for i in range(len(alternatives)):\n",
    "    for j in range(len(alternatives)):\n",
    "        \n",
    "        if m_dis[i,j]<= UD:\n",
    "            m_dis_D[i,j] = 1\n",
    "        \n",
    "        else:\n",
    "            m_dis_D[i,j] = 0\n",
    "            \n",
    "m_dis_D"
   ]
  },
  {
   "cell_type": "markdown",
   "metadata": {},
   "source": [
    "### Aggregate dominance"
   ]
  },
  {
   "cell_type": "code",
   "execution_count": 19,
   "metadata": {},
   "outputs": [
    {
     "data": {
      "text/plain": [
       "array([[0., 1., 1., 1.],\n",
       "       [0., 0., 1., 0.],\n",
       "       [0., 0., 0., 1.],\n",
       "       [0., 0., 0., 0.]])"
      ]
     },
     "execution_count": 19,
     "metadata": {},
     "output_type": "execute_result"
    }
   ],
   "source": [
    "m_AD = np.multiply(m_con_D,m_dis_D)\n",
    "m_AD "
   ]
  },
  {
   "cell_type": "code",
   "execution_count": 20,
   "metadata": {},
   "outputs": [
    {
     "name": "stdout",
     "output_type": "stream",
     "text": [
      "[3. 1. 1. 0.]\n",
      "[0. 1. 2. 2.]\n"
     ]
    }
   ],
   "source": [
    "upper = np.zeros(len(alternatives))\n",
    "lower = np.zeros(len(alternatives))\n",
    "\n",
    "for i in range(len(alternatives)):\n",
    "    upper[i] = sum(m_AD[i,:])\n",
    "    lower[i] = sum(m_AD[:,i])\n",
    "    \n",
    "print(upper)\n",
    "print(lower)"
   ]
  },
  {
   "cell_type": "code",
   "execution_count": 21,
   "metadata": {},
   "outputs": [
    {
     "data": {
      "text/plain": [
       "array([ 3.,  0., -1., -2.])"
      ]
     },
     "execution_count": 21,
     "metadata": {},
     "output_type": "execute_result"
    }
   ],
   "source": [
    "dom = upper - lower # Dominance\n",
    "dom"
   ]
  },
  {
   "cell_type": "markdown",
   "metadata": {},
   "source": [
    "### Results"
   ]
  },
  {
   "cell_type": "code",
   "execution_count": 22,
   "metadata": {},
   "outputs": [
    {
     "data": {
      "text/html": [
       "<div>\n",
       "<style scoped>\n",
       "    .dataframe tbody tr th:only-of-type {\n",
       "        vertical-align: middle;\n",
       "    }\n",
       "\n",
       "    .dataframe tbody tr th {\n",
       "        vertical-align: top;\n",
       "    }\n",
       "\n",
       "    .dataframe thead th {\n",
       "        text-align: right;\n",
       "    }\n",
       "</style>\n",
       "<table border=\"1\" class=\"dataframe\">\n",
       "  <thead>\n",
       "    <tr style=\"text-align: right;\">\n",
       "      <th></th>\n",
       "      <th>Material</th>\n",
       "      <th>Dominance</th>\n",
       "    </tr>\n",
       "  </thead>\n",
       "  <tbody>\n",
       "    <tr>\n",
       "      <th>0</th>\n",
       "      <td>PP</td>\n",
       "      <td>3.0</td>\n",
       "    </tr>\n",
       "    <tr>\n",
       "      <th>1</th>\n",
       "      <td>LDPE</td>\n",
       "      <td>0.0</td>\n",
       "    </tr>\n",
       "    <tr>\n",
       "      <th>2</th>\n",
       "      <td>HDPE</td>\n",
       "      <td>-1.0</td>\n",
       "    </tr>\n",
       "    <tr>\n",
       "      <th>3</th>\n",
       "      <td>N6</td>\n",
       "      <td>-2.0</td>\n",
       "    </tr>\n",
       "  </tbody>\n",
       "</table>\n",
       "</div>"
      ],
      "text/plain": [
       "  Material  Dominance\n",
       "0       PP        3.0\n",
       "1     LDPE        0.0\n",
       "2     HDPE       -1.0\n",
       "3       N6       -2.0"
      ]
     },
     "execution_count": 22,
     "metadata": {},
     "output_type": "execute_result"
    }
   ],
   "source": [
    "# Show it as a Dataframe\n",
    "df_end = pd.DataFrame(dom)\n",
    "df_end.insert(0, \"Material\", alternatives)\n",
    "df_end.columns = [\"Material\",\"Dominance\"]\n",
    "df_end"
   ]
  },
  {
   "cell_type": "code",
   "execution_count": 23,
   "metadata": {},
   "outputs": [
    {
     "data": {
      "text/html": [
       "<div>\n",
       "<style scoped>\n",
       "    .dataframe tbody tr th:only-of-type {\n",
       "        vertical-align: middle;\n",
       "    }\n",
       "\n",
       "    .dataframe tbody tr th {\n",
       "        vertical-align: top;\n",
       "    }\n",
       "\n",
       "    .dataframe thead th {\n",
       "        text-align: right;\n",
       "    }\n",
       "</style>\n",
       "<table border=\"1\" class=\"dataframe\">\n",
       "  <thead>\n",
       "    <tr style=\"text-align: right;\">\n",
       "      <th></th>\n",
       "      <th>Ranking</th>\n",
       "      <th>Material</th>\n",
       "      <th>Dominance</th>\n",
       "    </tr>\n",
       "  </thead>\n",
       "  <tbody>\n",
       "    <tr>\n",
       "      <th>0</th>\n",
       "      <td>1</td>\n",
       "      <td>PP</td>\n",
       "      <td>3.0</td>\n",
       "    </tr>\n",
       "    <tr>\n",
       "      <th>1</th>\n",
       "      <td>2</td>\n",
       "      <td>LDPE</td>\n",
       "      <td>0.0</td>\n",
       "    </tr>\n",
       "    <tr>\n",
       "      <th>2</th>\n",
       "      <td>3</td>\n",
       "      <td>HDPE</td>\n",
       "      <td>-1.0</td>\n",
       "    </tr>\n",
       "    <tr>\n",
       "      <th>3</th>\n",
       "      <td>4</td>\n",
       "      <td>N6</td>\n",
       "      <td>-2.0</td>\n",
       "    </tr>\n",
       "  </tbody>\n",
       "</table>\n",
       "</div>"
      ],
      "text/plain": [
       "   Ranking Material  Dominance\n",
       "0        1       PP        3.0\n",
       "1        2     LDPE        0.0\n",
       "2        3     HDPE       -1.0\n",
       "3        4       N6       -2.0"
      ]
     },
     "execution_count": 23,
     "metadata": {},
     "output_type": "execute_result"
    }
   ],
   "source": [
    "df_end = df_end.sort_values(by=[\"Dominance\"], ascending = False)\n",
    "df_end.insert(0, \"Ranking\", list(range(1,len(alternatives)+1)))\n",
    "df_end"
   ]
  }
 ],
 "metadata": {
  "kernelspec": {
   "display_name": "Python 3",
   "language": "python",
   "name": "python3"
  },
  "language_info": {
   "codemirror_mode": {
    "name": "ipython",
    "version": 3
   },
   "file_extension": ".py",
   "mimetype": "text/x-python",
   "name": "python",
   "nbconvert_exporter": "python",
   "pygments_lexer": "ipython3",
   "version": "3.8.8"
  }
 },
 "nbformat": 4,
 "nbformat_minor": 2
}
