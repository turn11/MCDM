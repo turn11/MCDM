{
 "cells": [
  {
   "cell_type": "code",
   "execution_count": 1,
   "metadata": {},
   "outputs": [],
   "source": [
    "import numpy as np\n",
    "import pandas as pd"
   ]
  },
  {
   "cell_type": "code",
   "execution_count": 3,
   "metadata": {},
   "outputs": [
    {
     "data": {
      "text/plain": [
       "'<style  type=\"text/css\" >\\n</style><table id=\"T_3bdb0_\" ><thead>    <tr>        <th class=\"blank level0\" ></th>        <th class=\"col_heading level0 col0\" >0</th>        <th class=\"col_heading level0 col1\" >1</th>        <th class=\"col_heading level0 col2\" >2</th>    </tr></thead><tbody>\\n                <tr>\\n                        <th id=\"T_3bdb0_level0_row0\" class=\"row_heading level0 row0\" >0</th>\\n                        <td id=\"T_3bdb0_row0_col0\" class=\"data row0 col0\" ><input name=\"df\" value=\"44\" /></td>\\n                        <td id=\"T_3bdb0_row0_col1\" class=\"data row0 col1\" ><input name=\"df\" value=\"47\" /></td>\\n                        <td id=\"T_3bdb0_row0_col2\" class=\"data row0 col2\" ><input name=\"df\" value=\"64\" /></td>\\n            </tr>\\n            <tr>\\n                        <th id=\"T_3bdb0_level0_row1\" class=\"row_heading level0 row1\" >1</th>\\n                        <td id=\"T_3bdb0_row1_col0\" class=\"data row1 col0\" ><input name=\"df\" value=\"67\" /></td>\\n                        <td id=\"T_3bdb0_row1_col1\" class=\"data row1 col1\" ><input name=\"df\" value=\"67\" /></td>\\n                        <td id=\"T_3bdb0_row1_col2\" class=\"data row1 col2\" ><input name=\"df\" value=\"9\" /></td>\\n            </tr>\\n            <tr>\\n                        <th id=\"T_3bdb0_level0_row2\" class=\"row_heading level0 row2\" >2</th>\\n                        <td id=\"T_3bdb0_row2_col0\" class=\"data row2 col0\" ><input name=\"df\" value=\"83\" /></td>\\n                        <td id=\"T_3bdb0_row2_col1\" class=\"data row2 col1\" ><input name=\"df\" value=\"21\" /></td>\\n                        <td id=\"T_3bdb0_row2_col2\" class=\"data row2 col2\" ><input name=\"df\" value=\"36\" /></td>\\n            </tr>\\n    </tbody></table>'"
      ]
     },
     "execution_count": 3,
     "metadata": {},
     "output_type": "execute_result"
    }
   ],
   "source": [
    "np.random.seed(0)\n",
    "\n",
    "df = pd.DataFrame(np.random.randint(0, 100, (3, 3)))\n",
    "df.style.format('<input name=\"df\" value=\"{}\" />').render()"
   ]
  },
  {
   "cell_type": "code",
   "execution_count": 5,
   "metadata": {},
   "outputs": [
    {
     "ename": "NameError",
     "evalue": "name 'request' is not defined",
     "output_type": "error",
     "traceback": [
      "\u001b[1;31m---------------------------------------------------------------------------\u001b[0m",
      "\u001b[1;31mNameError\u001b[0m                                 Traceback (most recent call last)",
      "\u001b[1;32m<ipython-input-5-394a90046270>\u001b[0m in \u001b[0;36m<module>\u001b[1;34m\u001b[0m\n\u001b[1;32m----> 1\u001b[1;33m \u001b[0mdf\u001b[0m \u001b[1;33m=\u001b[0m \u001b[0mpd\u001b[0m\u001b[1;33m.\u001b[0m\u001b[0mDataFrame\u001b[0m\u001b[1;33m(\u001b[0m\u001b[0mnp\u001b[0m\u001b[1;33m.\u001b[0m\u001b[0masarray\u001b[0m\u001b[1;33m(\u001b[0m\u001b[0mrequest\u001b[0m\u001b[1;33m.\u001b[0m\u001b[0mvalues\u001b[0m\u001b[1;33m.\u001b[0m\u001b[0mgetlist\u001b[0m\u001b[1;33m(\u001b[0m\u001b[1;34m'df'\u001b[0m\u001b[1;33m)\u001b[0m\u001b[1;33m,\u001b[0m \u001b[0mdtype\u001b[0m\u001b[1;33m=\u001b[0m\u001b[0mnp\u001b[0m\u001b[1;33m.\u001b[0m\u001b[0mint\u001b[0m\u001b[1;33m)\u001b[0m\u001b[1;33m.\u001b[0m\u001b[0mreshape\u001b[0m\u001b[1;33m(\u001b[0m\u001b[1;33m(\u001b[0m\u001b[1;36m3\u001b[0m\u001b[1;33m,\u001b[0m \u001b[1;36m3\u001b[0m\u001b[1;33m)\u001b[0m\u001b[1;33m)\u001b[0m\u001b[1;33m)\u001b[0m\u001b[1;33m\u001b[0m\u001b[1;33m\u001b[0m\u001b[0m\n\u001b[0m",
      "\u001b[1;31mNameError\u001b[0m: name 'request' is not defined"
     ]
    }
   ],
   "source": [
    "df = pd.DataFrame(np.asarray(request.values.getlist('df'), dtype=np.int).reshape((3, 3)))\n"
   ]
  },
  {
   "cell_type": "code",
   "execution_count": 9,
   "metadata": {},
   "outputs": [
    {
     "name": "stdout",
     "output_type": "stream",
     "text": [
      "Dash is running on http://127.0.0.1:8050/\n",
      "\n",
      "Dash is running on http://127.0.0.1:8050/\n",
      "\n",
      "Dash is running on http://127.0.0.1:8050/\n",
      "\n",
      " * Serving Flask app \"__main__\" (lazy loading)\n",
      " * Environment: production\n",
      "   WARNING: This is a development server. Do not use it in a production deployment.\n",
      "   Use a production WSGI server instead.\n",
      " * Debug mode: on\n"
     ]
    },
    {
     "ename": "SystemExit",
     "evalue": "1",
     "output_type": "error",
     "traceback": [
      "An exception has occurred, use %tb to see the full traceback.\n",
      "\u001b[1;31mSystemExit\u001b[0m\u001b[1;31m:\u001b[0m 1\n"
     ]
    }
   ],
   "source": [
    "import dash\n",
    "from dash.dependencies import Input, Output\n",
    "import dash_table\n",
    "import dash_core_components as dcc\n",
    "import dash_html_components as html\n",
    "import pandas as pd\n",
    "\n",
    "app = dash.Dash(__name__)\n",
    "\n",
    "params = [\n",
    "    'Weight', 'Torque', 'Width', 'Height',\n",
    "    'Efficiency', 'Power', 'Displacement'\n",
    "]\n",
    "\n",
    "app.layout = html.Div([\n",
    "    dash_table.DataTable(\n",
    "        id='table-editing-simple',\n",
    "        columns=(\n",
    "            [{'id': 'Model', 'name': 'Model'}] +\n",
    "            [{'id': p, 'name': p} for p in params]\n",
    "        ),\n",
    "        data=[\n",
    "            dict(Model=i, **{param: 0 for param in params})\n",
    "            for i in range(1, 5)\n",
    "        ],\n",
    "        editable=True\n",
    "    ),\n",
    "    dcc.Graph(id='table-editing-simple-output')\n",
    "])\n",
    "\n",
    "\n",
    "@app.callback(\n",
    "    Output('table-editing-simple-output', 'figure'),\n",
    "    Input('table-editing-simple', 'data'),\n",
    "    Input('table-editing-simple', 'columns'))\n",
    "def display_output(rows, columns):\n",
    "    df = pd.DataFrame(rows, columns=[c['name'] for c in columns])\n",
    "    return {\n",
    "        'data': [{\n",
    "            'type': 'parcoords',\n",
    "            'dimensions': [{\n",
    "                'label': col['name'],\n",
    "                'values': df[col['id']]\n",
    "            } for col in columns]\n",
    "        }]\n",
    "    }\n",
    "\n",
    "\n",
    "if __name__ == '__main__':\n",
    "    app.run_server(debug=True)"
   ]
  },
  {
   "cell_type": "code",
   "execution_count": 19,
   "metadata": {},
   "outputs": [],
   "source": [
    "a = np.zeros((2,2,2),dtype=object)"
   ]
  },
  {
   "cell_type": "code",
   "execution_count": 23,
   "metadata": {},
   "outputs": [
    {
     "data": {
      "text/plain": [
       "array([[0., 0., 0., 0., 0.],\n",
       "       [0., 0., 0., 0., 0.],\n",
       "       [0., 0., 0., 0., 0.]])"
      ]
     },
     "execution_count": 23,
     "metadata": {},
     "output_type": "execute_result"
    }
   ],
   "source": [
    "a = np.zeros((3,5))\n",
    "a"
   ]
  },
  {
   "cell_type": "code",
   "execution_count": 25,
   "metadata": {},
   "outputs": [
    {
     "data": {
      "text/plain": [
       "array([[1., 0., 0., 0., 0.],\n",
       "       [2., 0., 0., 0., 0.],\n",
       "       [3., 0., 0., 0., 0.]])"
      ]
     },
     "execution_count": 25,
     "metadata": {},
     "output_type": "execute_result"
    }
   ],
   "source": [
    "a[:,0]=[1,2,3]\n",
    "a"
   ]
  }
 ],
 "metadata": {
  "kernelspec": {
   "display_name": "Python 3",
   "language": "python",
   "name": "python3"
  },
  "language_info": {
   "codemirror_mode": {
    "name": "ipython",
    "version": 3
   },
   "file_extension": ".py",
   "mimetype": "text/x-python",
   "name": "python",
   "nbconvert_exporter": "python",
   "pygments_lexer": "ipython3",
   "version": "3.8.8"
  }
 },
 "nbformat": 4,
 "nbformat_minor": 2
}
