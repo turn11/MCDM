{
 "cells": [
  {
   "cell_type": "markdown",
   "metadata": {},
   "source": [
    "### Import Libraries"
   ]
  },
  {
   "cell_type": "code",
   "execution_count": 1,
   "metadata": {},
   "outputs": [],
   "source": [
    "import pandas as pd # Dataset operations\n",
    "import qgrid # Interactive tables\n",
    "import numpy as np # math and array operations\n",
    "import scipy.linalg as la"
   ]
  },
  {
   "cell_type": "markdown",
   "metadata": {},
   "source": [
    "### Import Dataset\n",
    "Import dataset with the following columns:\n",
    "- Propierties\n",
    "- Units\n",
    "- Max or Min Criteria\n",
    "- Next columns are for each material with its properties values"
   ]
  },
  {
   "cell_type": "code",
   "execution_count": 2,
   "metadata": {},
   "outputs": [
    {
     "data": {
      "text/html": [
       "<div>\n",
       "<style scoped>\n",
       "    .dataframe tbody tr th:only-of-type {\n",
       "        vertical-align: middle;\n",
       "    }\n",
       "\n",
       "    .dataframe tbody tr th {\n",
       "        vertical-align: top;\n",
       "    }\n",
       "\n",
       "    .dataframe thead th {\n",
       "        text-align: right;\n",
       "    }\n",
       "</style>\n",
       "<table border=\"1\" class=\"dataframe\">\n",
       "  <thead>\n",
       "    <tr style=\"text-align: right;\">\n",
       "      <th></th>\n",
       "      <th>Propiedad</th>\n",
       "      <th>Unidades</th>\n",
       "      <th>Criterio</th>\n",
       "      <th>PP</th>\n",
       "      <th>LDPE</th>\n",
       "      <th>HDPE</th>\n",
       "      <th>N6</th>\n",
       "    </tr>\n",
       "  </thead>\n",
       "  <tbody>\n",
       "    <tr>\n",
       "      <th>0</th>\n",
       "      <td>Esfuerzo fluencia</td>\n",
       "      <td>Mpa</td>\n",
       "      <td>Max</td>\n",
       "      <td>41.40</td>\n",
       "      <td>78.000</td>\n",
       "      <td>38.00</td>\n",
       "      <td>79.00</td>\n",
       "    </tr>\n",
       "    <tr>\n",
       "      <th>1</th>\n",
       "      <td>Módulo de elasticidad</td>\n",
       "      <td>Gpa</td>\n",
       "      <td>Max</td>\n",
       "      <td>1.77</td>\n",
       "      <td>0.380</td>\n",
       "      <td>1.50</td>\n",
       "      <td>2.90</td>\n",
       "    </tr>\n",
       "    <tr>\n",
       "      <th>2</th>\n",
       "      <td>Densidad</td>\n",
       "      <td>g/cm^3</td>\n",
       "      <td>Min</td>\n",
       "      <td>0.92</td>\n",
       "      <td>0.925</td>\n",
       "      <td>0.96</td>\n",
       "      <td>1.14</td>\n",
       "    </tr>\n",
       "    <tr>\n",
       "      <th>3</th>\n",
       "      <td>Absorción de agua</td>\n",
       "      <td>%</td>\n",
       "      <td>Min</td>\n",
       "      <td>0.02</td>\n",
       "      <td>0.015</td>\n",
       "      <td>0.20</td>\n",
       "      <td>1.80</td>\n",
       "    </tr>\n",
       "    <tr>\n",
       "      <th>4</th>\n",
       "      <td>Costo de la materia prima</td>\n",
       "      <td>USD/kg</td>\n",
       "      <td>Min</td>\n",
       "      <td>0.97</td>\n",
       "      <td>1.060</td>\n",
       "      <td>0.90</td>\n",
       "      <td>2.10</td>\n",
       "    </tr>\n",
       "  </tbody>\n",
       "</table>\n",
       "</div>"
      ],
      "text/plain": [
       "                   Propiedad Unidades Criterio     PP    LDPE   HDPE     N6\n",
       "0          Esfuerzo fluencia      Mpa      Max  41.40  78.000  38.00  79.00\n",
       "1      Módulo de elasticidad      Gpa      Max   1.77   0.380   1.50   2.90\n",
       "2                   Densidad   g/cm^3      Min   0.92   0.925   0.96   1.14\n",
       "3          Absorción de agua        %      Min   0.02   0.015   0.20   1.80\n",
       "4  Costo de la materia prima   USD/kg      Min   0.97   1.060   0.90   2.10"
      ]
     },
     "execution_count": 2,
     "metadata": {},
     "output_type": "execute_result"
    }
   ],
   "source": [
    "df = pd.read_excel(\"Materiales.xlsx\")\n",
    "df.head()"
   ]
  },
  {
   "cell_type": "code",
   "execution_count": 3,
   "metadata": {},
   "outputs": [
    {
     "name": "stdout",
     "output_type": "stream",
     "text": [
      "QGridWidget\n",
      "QgridWidget\n",
      "__all__\n",
      "__builtins__\n",
      "__cached__\n",
      "__doc__\n",
      "__file__\n",
      "__loader__\n",
      "__name__\n",
      "__package__\n",
      "__path__\n",
      "__spec__\n",
      "__version__\n",
      "_jupyter_nbextension_paths\n",
      "_version\n",
      "disable\n",
      "enable\n",
      "grid\n",
      "off\n",
      "on\n",
      "set_defaults\n",
      "set_grid_option\n",
      "show_grid\n",
      "version_info\n"
     ]
    }
   ],
   "source": [
    "for qgrid_functions in dir(qgrid):\n",
    "    print(qgrid_functions)"
   ]
  },
  {
   "cell_type": "code",
   "execution_count": 12,
   "metadata": {},
   "outputs": [
    {
     "data": {
      "application/vnd.jupyter.widget-view+json": {
       "model_id": "fbffeea18d3b49dab74b024175eb885d",
       "version_major": 2,
       "version_minor": 0
      },
      "text/plain": [
       "QgridWidget(grid_options={'fullWidthRows': True, 'syncColumnCellResize': True, 'forceFitColumns': True, 'defau…"
      ]
     },
     "metadata": {},
     "output_type": "display_data"
    }
   ],
   "source": [
    "qgrid_initial = qgrid.show_grid(df)\n",
    "qgrid_initial"
   ]
  },
  {
   "cell_type": "code",
   "execution_count": 37,
   "metadata": {},
   "outputs": [
    {
     "data": {
      "text/plain": [
       "['Esfuerzo fluencia',\n",
       " 'Módulo de elasticidad',\n",
       " 'Densidad',\n",
       " 'Absorción de agua',\n",
       " 'Costo de la materia prima']"
      ]
     },
     "execution_count": 37,
     "metadata": {},
     "output_type": "execute_result"
    }
   ],
   "source": [
    "# List of criterias\n",
    "criterias = df[\"Propiedad\"].tolist()\n",
    "criterias"
   ]
  },
  {
   "cell_type": "code",
   "execution_count": 205,
   "metadata": {},
   "outputs": [
    {
     "data": {
      "text/plain": [
       "['PP', 'LDPE', 'HDPE', 'N6']"
      ]
     },
     "execution_count": 205,
     "metadata": {},
     "output_type": "execute_result"
    }
   ],
   "source": [
    "# List of alternatives\n",
    "alternatives =  df.columns.tolist()[3:]\n",
    "alternatives"
   ]
  },
  {
   "cell_type": "markdown",
   "metadata": {},
   "source": [
    "# AHP"
   ]
  },
  {
   "cell_type": "markdown",
   "metadata": {},
   "source": [
    "### Lambda function"
   ]
  },
  {
   "cell_type": "code",
   "execution_count": 166,
   "metadata": {},
   "outputs": [],
   "source": [
    "def lambda_function(matrix):\n",
    "    vals, vects = la.eig(matrix) # Eigenvalues and eigenvectors\n",
    "    maxcol = list(vals).index(max(vals)) # Column with max eigenvalues\n",
    "    eigenvect = np.real(vects[:,maxcol]) # Getting the maxeigenvalues of the eigenvectors (Real part)\n",
    "    lambda_values = eigenvect/sum(eigenvect) # Eigenvalues normalized 0-1\n",
    "    return lambda_values"
   ]
  },
  {
   "cell_type": "markdown",
   "metadata": {},
   "source": [
    "### Consistency criteria function"
   ]
  },
  {
   "cell_type": "code",
   "execution_count": 181,
   "metadata": {},
   "outputs": [],
   "source": [
    "def consistency(matrix,lamb):\n",
    "    P = matrix.sum(axis=0) # Sum matrix columns\n",
    "    lambda_max = np.dot(P, lamb) # Dot product between P and Lambda values\n",
    "    n = len(matrix) # Number of criterias/alternatives\n",
    "    CI = (lambda_max-n)/(n-1) # Consitency index\n",
    "    RI = [0, 0, 0.58, 0.89, 1.12, 1.26, 1.36, 1.41, 1.42, 1.49, 1.52, 1.54, 1.56, 1.58] # Random consitency index\n",
    "    CR = CI/RI[n-1] # Consitency rate\n",
    "    if CR <= 0.1:\n",
    "        print(\"The matrix is consistent with a value of {:.3f} or {:.2f}%\".format(CR,CR*100))\n",
    "    else:\n",
    "        print(\"The matrix is NOT consistent with a value of {:.3f} or {:.2f}%\".format(CR,CR*100))\n",
    "        print(\"Review the paired comparison values\")"
   ]
  },
  {
   "cell_type": "markdown",
   "metadata": {},
   "source": [
    "### Criterias Matrix"
   ]
  },
  {
   "cell_type": "code",
   "execution_count": 65,
   "metadata": {},
   "outputs": [
    {
     "data": {
      "application/vnd.jupyter.widget-view+json": {
       "model_id": "1b62ae394b7c4bb9a0fc2b53b15d9a0c",
       "version_major": 2,
       "version_minor": 0
      },
      "text/plain": [
       "QgridWidget(grid_options={'fullWidthRows': True, 'syncColumnCellResize': True, 'forceFitColumns': True, 'defau…"
      ]
     },
     "metadata": {},
     "output_type": "display_data"
    }
   ],
   "source": [
    "qgrid_cri = qgrid.show_grid(df_cri)\n",
    "qgrid_cri"
   ]
  },
  {
   "cell_type": "code",
   "execution_count": 197,
   "metadata": {},
   "outputs": [
    {
     "data": {
      "text/html": [
       "<div>\n",
       "<style scoped>\n",
       "    .dataframe tbody tr th:only-of-type {\n",
       "        vertical-align: middle;\n",
       "    }\n",
       "\n",
       "    .dataframe tbody tr th {\n",
       "        vertical-align: top;\n",
       "    }\n",
       "\n",
       "    .dataframe thead th {\n",
       "        text-align: right;\n",
       "    }\n",
       "</style>\n",
       "<table border=\"1\" class=\"dataframe\">\n",
       "  <thead>\n",
       "    <tr style=\"text-align: right;\">\n",
       "      <th></th>\n",
       "      <th>Propiedad</th>\n",
       "      <th>Esfuerzo fluencia</th>\n",
       "      <th>Módulo de elasticidad</th>\n",
       "      <th>Densidad</th>\n",
       "      <th>Absorción de agua</th>\n",
       "      <th>Costo de la materia prima</th>\n",
       "    </tr>\n",
       "  </thead>\n",
       "  <tbody>\n",
       "    <tr>\n",
       "      <th>0</th>\n",
       "      <td>Esfuerzo fluencia</td>\n",
       "      <td>1</td>\n",
       "      <td>1/5</td>\n",
       "      <td>1/7</td>\n",
       "      <td>1</td>\n",
       "      <td>1/7</td>\n",
       "    </tr>\n",
       "    <tr>\n",
       "      <th>1</th>\n",
       "      <td>Módulo de elasticidad</td>\n",
       "      <td>5</td>\n",
       "      <td>1</td>\n",
       "      <td>1/3</td>\n",
       "      <td>5</td>\n",
       "      <td>1/5</td>\n",
       "    </tr>\n",
       "    <tr>\n",
       "      <th>2</th>\n",
       "      <td>Densidad</td>\n",
       "      <td>7</td>\n",
       "      <td>3</td>\n",
       "      <td>1</td>\n",
       "      <td>5</td>\n",
       "      <td>1</td>\n",
       "    </tr>\n",
       "    <tr>\n",
       "      <th>3</th>\n",
       "      <td>Absorción de agua</td>\n",
       "      <td>1</td>\n",
       "      <td>1/5</td>\n",
       "      <td>1/5</td>\n",
       "      <td>1</td>\n",
       "      <td>1/9</td>\n",
       "    </tr>\n",
       "    <tr>\n",
       "      <th>4</th>\n",
       "      <td>Costo de la materia prima</td>\n",
       "      <td>7</td>\n",
       "      <td>5</td>\n",
       "      <td>1</td>\n",
       "      <td>9</td>\n",
       "      <td>1</td>\n",
       "    </tr>\n",
       "  </tbody>\n",
       "</table>\n",
       "</div>"
      ],
      "text/plain": [
       "                   Propiedad Esfuerzo fluencia Módulo de elasticidad Densidad  \\\n",
       "0          Esfuerzo fluencia                 1                   1/5      1/7   \n",
       "1      Módulo de elasticidad                 5                     1      1/3   \n",
       "2                   Densidad                 7                     3        1   \n",
       "3          Absorción de agua                 1                   1/5      1/5   \n",
       "4  Costo de la materia prima                 7                     5        1   \n",
       "\n",
       "  Absorción de agua Costo de la materia prima  \n",
       "0                 1                       1/7  \n",
       "1                 5                       1/5  \n",
       "2                 5                         1  \n",
       "3                 1                       1/9  \n",
       "4                 9                         1  "
      ]
     },
     "execution_count": 197,
     "metadata": {},
     "output_type": "execute_result"
    }
   ],
   "source": [
    "df_cri = qgrid_cri.get_changed_df()\n",
    "df_cri.head()"
   ]
  },
  {
   "cell_type": "code",
   "execution_count": 198,
   "metadata": {},
   "outputs": [
    {
     "data": {
      "text/plain": [
       "array([['1', '1/5', '1/7', '1', '1/7'],\n",
       "       ['5', '1', '1/3', '5', '1/5'],\n",
       "       ['7', '3', '1', '5', '1'],\n",
       "       ['1', '1/5', '1/5', '1', '1/9'],\n",
       "       ['7', '5', '1', '9', '1']], dtype=object)"
      ]
     },
     "execution_count": 198,
     "metadata": {},
     "output_type": "execute_result"
    }
   ],
   "source": [
    "# Convert Datafame into a matrix\n",
    "m_cri = df_cri[criterias].to_numpy()\n",
    "m_cri"
   ]
  },
  {
   "cell_type": "code",
   "execution_count": 199,
   "metadata": {},
   "outputs": [],
   "source": [
    "# Convert string data into float\n",
    "\n",
    "for i in range(len(m_cri)):\n",
    "    for j in range(len(m_cri)):\n",
    "        if \"/\" in m_cri[i][j]: # Numbers input as fraction\n",
    "            num, den = m_cri[i][j].split(\"/\")\n",
    "            m_cri[i][j] = int(num)/int(den)\n",
    "        else:\n",
    "            m_cri[i][j] = float(m_cri[i][j]) # Str to float\n",
    "            \n",
    "m_cri = m_cri.astype(float) # Convert dtype = object to float"
   ]
  },
  {
   "cell_type": "code",
   "execution_count": 200,
   "metadata": {},
   "outputs": [
    {
     "name": "stdout",
     "output_type": "stream",
     "text": [
      "[[1.         0.2        0.14285714 1.         0.14285714]\n",
      " [5.         1.         0.33333333 5.         0.2       ]\n",
      " [7.         3.         1.         5.         1.        ]\n",
      " [1.         0.2        0.2        1.         0.11111111]\n",
      " [7.         5.         1.         9.         1.        ]]\n"
     ]
    }
   ],
   "source": [
    "print(m_cri)"
   ]
  },
  {
   "cell_type": "code",
   "execution_count": 201,
   "metadata": {},
   "outputs": [],
   "source": [
    "lambda_cri = lambda_function(m_cri) # Max eigenvalues of criterias"
   ]
  },
  {
   "cell_type": "code",
   "execution_count": 202,
   "metadata": {},
   "outputs": [
    {
     "data": {
      "text/plain": [
       "[('Esfuerzo fluencia', 0.04354949761432057),\n",
       " ('Módulo de elasticidad', 0.1512755846415514),\n",
       " ('Densidad', 0.33415358138113027),\n",
       " ('Absorción de agua', 0.04461541419150522),\n",
       " ('Costo de la materia prima', 0.4264059221714924)]"
      ]
     },
     "execution_count": 202,
     "metadata": {},
     "output_type": "execute_result"
    }
   ],
   "source": [
    "# Criterias lambda\n",
    "list(zip(criterias,lambda_cri))"
   ]
  },
  {
   "cell_type": "code",
   "execution_count": 203,
   "metadata": {},
   "outputs": [
    {
     "name": "stdout",
     "output_type": "stream",
     "text": [
      "The matrix is consistent with a value of 0.048 or 4.78%\n"
     ]
    }
   ],
   "source": [
    "# Consistency test\n",
    "consistency(m_cri,lambda_cri)"
   ]
  },
  {
   "cell_type": "markdown",
   "metadata": {},
   "source": [
    "### Alternatives Matrix"
   ]
  },
  {
   "cell_type": "code",
   "execution_count": 244,
   "metadata": {},
   "outputs": [],
   "source": [
    "# import dash\n",
    "# import dash_table\n",
    "# import dash_html_components as html"
   ]
  },
  {
   "cell_type": "code",
   "execution_count": null,
   "metadata": {},
   "outputs": [],
   "source": [
    "# lambda_alt = np.zeros((len(alternatives),len(criterias))) # Matrix to save max eigenvalues of alternatives\n",
    "# criteri = criterias[0]\n",
    "\n",
    "# # Create empty Matrix for alterntives\n",
    "# df_alt = pd.DataFrame(columns = [criteria] + alternatives) \n",
    "# df_alt[criteria] = alternatives\n",
    "    \n",
    "# app = dash.Dash(__name__)\n",
    "\n",
    "# app.layout = html.Div([\n",
    "#     dash_table.DataTable(\n",
    "#     id = \"Table\",\n",
    "#     columns = [{\"name\": i, \"id\":i} for i in df_alt.columns],\n",
    "#     data = df_alt.to_dict(\"rows\"))\n",
    "#     ])\n",
    "    \n",
    "# if __name__ == \"__main__\":\n",
    "#     app.run_server(debug = True, port = 8051)\n",
    "\n",
    "    \n",
    "    "
   ]
  },
  {
   "cell_type": "code",
   "execution_count": null,
   "metadata": {},
   "outputs": [],
   "source": []
  }
 ],
 "metadata": {
  "kernelspec": {
   "display_name": "Python 3",
   "language": "python",
   "name": "python3"
  },
  "language_info": {
   "codemirror_mode": {
    "name": "ipython",
    "version": 3
   },
   "file_extension": ".py",
   "mimetype": "text/x-python",
   "name": "python",
   "nbconvert_exporter": "python",
   "pygments_lexer": "ipython3",
   "version": "3.8.8"
  }
 },
 "nbformat": 4,
 "nbformat_minor": 2
}
