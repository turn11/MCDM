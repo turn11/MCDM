{
 "cells": [
  {
   "cell_type": "markdown",
   "metadata": {},
   "source": [
    "### Import Libraries"
   ]
  },
  {
   "cell_type": "code",
   "execution_count": 1,
   "metadata": {},
   "outputs": [],
   "source": [
    "import pandas as pd # Dataset operations\n",
    "import numpy as np # math and array operations\n",
    "import scipy.linalg as la\n",
    "import matplotlib.pyplot as plt"
   ]
  },
  {
   "cell_type": "markdown",
   "metadata": {},
   "source": [
    "### Import Dataset\n",
    "Import dataset with the following columns:\n",
    "- Propierties\n",
    "- Units\n",
    "- Max or Min Criteria\n",
    "- Next columns are for each material with its properties values"
   ]
  },
  {
   "cell_type": "code",
   "execution_count": 2,
   "metadata": {},
   "outputs": [
    {
     "data": {
      "text/html": [
       "<div>\n",
       "<style scoped>\n",
       "    .dataframe tbody tr th:only-of-type {\n",
       "        vertical-align: middle;\n",
       "    }\n",
       "\n",
       "    .dataframe tbody tr th {\n",
       "        vertical-align: top;\n",
       "    }\n",
       "\n",
       "    .dataframe thead th {\n",
       "        text-align: right;\n",
       "    }\n",
       "</style>\n",
       "<table border=\"1\" class=\"dataframe\">\n",
       "  <thead>\n",
       "    <tr style=\"text-align: right;\">\n",
       "      <th></th>\n",
       "      <th>Propiedad</th>\n",
       "      <th>Unidades</th>\n",
       "      <th>Criterio</th>\n",
       "      <th>PP</th>\n",
       "      <th>LDPE</th>\n",
       "      <th>HDPE</th>\n",
       "      <th>N6</th>\n",
       "    </tr>\n",
       "  </thead>\n",
       "  <tbody>\n",
       "    <tr>\n",
       "      <th>0</th>\n",
       "      <td>Esfuerzo fluencia</td>\n",
       "      <td>Mpa</td>\n",
       "      <td>Max</td>\n",
       "      <td>41.40</td>\n",
       "      <td>78.000</td>\n",
       "      <td>38.00</td>\n",
       "      <td>79.00</td>\n",
       "    </tr>\n",
       "    <tr>\n",
       "      <th>1</th>\n",
       "      <td>Módulo de elasticidad</td>\n",
       "      <td>Gpa</td>\n",
       "      <td>Max</td>\n",
       "      <td>1.77</td>\n",
       "      <td>0.380</td>\n",
       "      <td>1.50</td>\n",
       "      <td>2.90</td>\n",
       "    </tr>\n",
       "    <tr>\n",
       "      <th>2</th>\n",
       "      <td>Densidad</td>\n",
       "      <td>g/cm^3</td>\n",
       "      <td>Min</td>\n",
       "      <td>0.92</td>\n",
       "      <td>0.925</td>\n",
       "      <td>0.96</td>\n",
       "      <td>1.14</td>\n",
       "    </tr>\n",
       "    <tr>\n",
       "      <th>3</th>\n",
       "      <td>Absorción de agua</td>\n",
       "      <td>%</td>\n",
       "      <td>Min</td>\n",
       "      <td>0.02</td>\n",
       "      <td>0.015</td>\n",
       "      <td>0.20</td>\n",
       "      <td>1.80</td>\n",
       "    </tr>\n",
       "    <tr>\n",
       "      <th>4</th>\n",
       "      <td>Costo de la materia prima</td>\n",
       "      <td>USD/kg</td>\n",
       "      <td>Min</td>\n",
       "      <td>0.97</td>\n",
       "      <td>1.060</td>\n",
       "      <td>0.90</td>\n",
       "      <td>2.10</td>\n",
       "    </tr>\n",
       "  </tbody>\n",
       "</table>\n",
       "</div>"
      ],
      "text/plain": [
       "                   Propiedad Unidades Criterio     PP    LDPE   HDPE     N6\n",
       "0          Esfuerzo fluencia      Mpa      Max  41.40  78.000  38.00  79.00\n",
       "1      Módulo de elasticidad      Gpa      Max   1.77   0.380   1.50   2.90\n",
       "2                   Densidad   g/cm^3      Min   0.92   0.925   0.96   1.14\n",
       "3          Absorción de agua        %      Min   0.02   0.015   0.20   1.80\n",
       "4  Costo de la materia prima   USD/kg      Min   0.97   1.060   0.90   2.10"
      ]
     },
     "execution_count": 2,
     "metadata": {},
     "output_type": "execute_result"
    }
   ],
   "source": [
    "df = pd.read_excel(\"Materiales.xlsx\")\n",
    "df.head()"
   ]
  },
  {
   "cell_type": "code",
   "execution_count": 3,
   "metadata": {},
   "outputs": [
    {
     "data": {
      "text/plain": [
       "['Esfuerzo fluencia',\n",
       " 'Módulo de elasticidad',\n",
       " 'Densidad',\n",
       " 'Absorción de agua',\n",
       " 'Costo de la materia prima']"
      ]
     },
     "execution_count": 3,
     "metadata": {},
     "output_type": "execute_result"
    }
   ],
   "source": [
    "# List of criterias\n",
    "criterias = df[\"Propiedad\"].tolist()\n",
    "criterias"
   ]
  },
  {
   "cell_type": "code",
   "execution_count": 4,
   "metadata": {},
   "outputs": [
    {
     "data": {
      "text/plain": [
       "['PP', 'LDPE', 'HDPE', 'N6']"
      ]
     },
     "execution_count": 4,
     "metadata": {},
     "output_type": "execute_result"
    }
   ],
   "source": [
    "# List of alternatives\n",
    "alternatives =  df.columns.tolist()[3:]\n",
    "alternatives"
   ]
  },
  {
   "cell_type": "code",
   "execution_count": 5,
   "metadata": {},
   "outputs": [
    {
     "data": {
      "text/plain": [
       "['Max', 'Max', 'Min', 'Min', 'Min']"
      ]
     },
     "execution_count": 5,
     "metadata": {},
     "output_type": "execute_result"
    }
   ],
   "source": [
    "# Max or min criterias\n",
    "maxmin = df[\"Criterio\"].tolist()\n",
    "maxmin"
   ]
  },
  {
   "cell_type": "markdown",
   "metadata": {},
   "source": [
    "# PROMETHEE"
   ]
  },
  {
   "cell_type": "markdown",
   "metadata": {},
   "source": [
    "### Decisional matrix"
   ]
  },
  {
   "cell_type": "code",
   "execution_count": 6,
   "metadata": {},
   "outputs": [
    {
     "data": {
      "text/html": [
       "<div>\n",
       "<style scoped>\n",
       "    .dataframe tbody tr th:only-of-type {\n",
       "        vertical-align: middle;\n",
       "    }\n",
       "\n",
       "    .dataframe tbody tr th {\n",
       "        vertical-align: top;\n",
       "    }\n",
       "\n",
       "    .dataframe thead th {\n",
       "        text-align: right;\n",
       "    }\n",
       "</style>\n",
       "<table border=\"1\" class=\"dataframe\">\n",
       "  <thead>\n",
       "    <tr style=\"text-align: right;\">\n",
       "      <th></th>\n",
       "      <th>PP</th>\n",
       "      <th>LDPE</th>\n",
       "      <th>HDPE</th>\n",
       "      <th>N6</th>\n",
       "    </tr>\n",
       "  </thead>\n",
       "  <tbody>\n",
       "    <tr>\n",
       "      <th>0</th>\n",
       "      <td>41.40</td>\n",
       "      <td>78.000</td>\n",
       "      <td>38.00</td>\n",
       "      <td>79.00</td>\n",
       "    </tr>\n",
       "    <tr>\n",
       "      <th>1</th>\n",
       "      <td>1.77</td>\n",
       "      <td>0.380</td>\n",
       "      <td>1.50</td>\n",
       "      <td>2.90</td>\n",
       "    </tr>\n",
       "    <tr>\n",
       "      <th>2</th>\n",
       "      <td>0.92</td>\n",
       "      <td>0.925</td>\n",
       "      <td>0.96</td>\n",
       "      <td>1.14</td>\n",
       "    </tr>\n",
       "    <tr>\n",
       "      <th>3</th>\n",
       "      <td>0.02</td>\n",
       "      <td>0.015</td>\n",
       "      <td>0.20</td>\n",
       "      <td>1.80</td>\n",
       "    </tr>\n",
       "    <tr>\n",
       "      <th>4</th>\n",
       "      <td>0.97</td>\n",
       "      <td>1.060</td>\n",
       "      <td>0.90</td>\n",
       "      <td>2.10</td>\n",
       "    </tr>\n",
       "  </tbody>\n",
       "</table>\n",
       "</div>"
      ],
      "text/plain": [
       "      PP    LDPE   HDPE     N6\n",
       "0  41.40  78.000  38.00  79.00\n",
       "1   1.77   0.380   1.50   2.90\n",
       "2   0.92   0.925   0.96   1.14\n",
       "3   0.02   0.015   0.20   1.80\n",
       "4   0.97   1.060   0.90   2.10"
      ]
     },
     "execution_count": 6,
     "metadata": {},
     "output_type": "execute_result"
    }
   ],
   "source": [
    "df.pop(\"Unidades\") # Deleta Units column\n",
    "df.pop(\"Criterio\") # Delete max-min criteria colum\n",
    "df.pop(\"Propiedad\")# Delete properties column\n",
    "df"
   ]
  },
  {
   "cell_type": "code",
   "execution_count": 7,
   "metadata": {},
   "outputs": [
    {
     "data": {
      "text/html": [
       "<div>\n",
       "<style scoped>\n",
       "    .dataframe tbody tr th:only-of-type {\n",
       "        vertical-align: middle;\n",
       "    }\n",
       "\n",
       "    .dataframe tbody tr th {\n",
       "        vertical-align: top;\n",
       "    }\n",
       "\n",
       "    .dataframe thead th {\n",
       "        text-align: right;\n",
       "    }\n",
       "</style>\n",
       "<table border=\"1\" class=\"dataframe\">\n",
       "  <thead>\n",
       "    <tr style=\"text-align: right;\">\n",
       "      <th></th>\n",
       "      <th>Esfuerzo fluencia</th>\n",
       "      <th>Módulo de elasticidad</th>\n",
       "      <th>Densidad</th>\n",
       "      <th>Absorción de agua</th>\n",
       "      <th>Costo de la materia prima</th>\n",
       "    </tr>\n",
       "  </thead>\n",
       "  <tbody>\n",
       "    <tr>\n",
       "      <th>PP</th>\n",
       "      <td>41.4</td>\n",
       "      <td>1.77</td>\n",
       "      <td>0.920</td>\n",
       "      <td>0.020</td>\n",
       "      <td>0.97</td>\n",
       "    </tr>\n",
       "    <tr>\n",
       "      <th>LDPE</th>\n",
       "      <td>78.0</td>\n",
       "      <td>0.38</td>\n",
       "      <td>0.925</td>\n",
       "      <td>0.015</td>\n",
       "      <td>1.06</td>\n",
       "    </tr>\n",
       "    <tr>\n",
       "      <th>HDPE</th>\n",
       "      <td>38.0</td>\n",
       "      <td>1.50</td>\n",
       "      <td>0.960</td>\n",
       "      <td>0.200</td>\n",
       "      <td>0.90</td>\n",
       "    </tr>\n",
       "    <tr>\n",
       "      <th>N6</th>\n",
       "      <td>79.0</td>\n",
       "      <td>2.90</td>\n",
       "      <td>1.140</td>\n",
       "      <td>1.800</td>\n",
       "      <td>2.10</td>\n",
       "    </tr>\n",
       "  </tbody>\n",
       "</table>\n",
       "</div>"
      ],
      "text/plain": [
       "      Esfuerzo fluencia  Módulo de elasticidad  Densidad  Absorción de agua  \\\n",
       "PP                 41.4                   1.77     0.920              0.020   \n",
       "LDPE               78.0                   0.38     0.925              0.015   \n",
       "HDPE               38.0                   1.50     0.960              0.200   \n",
       "N6                 79.0                   2.90     1.140              1.800   \n",
       "\n",
       "      Costo de la materia prima  \n",
       "PP                         0.97  \n",
       "LDPE                       1.06  \n",
       "HDPE                       0.90  \n",
       "N6                         2.10  "
      ]
     },
     "execution_count": 7,
     "metadata": {},
     "output_type": "execute_result"
    }
   ],
   "source": [
    "df_decisional = df.T # Transpose dataframe\n",
    "df_decisional.columns = criterias # Change name of the columns\n",
    "df_decisional"
   ]
  },
  {
   "cell_type": "code",
   "execution_count": 8,
   "metadata": {},
   "outputs": [
    {
     "data": {
      "text/plain": [
       "array([[41.4  ,  1.77 ,  0.92 ,  0.02 ,  0.97 ],\n",
       "       [78.   ,  0.38 ,  0.925,  0.015,  1.06 ],\n",
       "       [38.   ,  1.5  ,  0.96 ,  0.2  ,  0.9  ],\n",
       "       [79.   ,  2.9  ,  1.14 ,  1.8  ,  2.1  ]])"
      ]
     },
     "execution_count": 8,
     "metadata": {},
     "output_type": "execute_result"
    }
   ],
   "source": [
    "np.set_printoptions(suppress=True, precision=3) # Avoid scientific notation in numpy matrix and 3 decimal digits\n",
    "\n",
    "m_decisional = df_decisional.to_numpy() #Dataframe into numpy matrix\n",
    "m_decisional"
   ]
  },
  {
   "cell_type": "markdown",
   "metadata": {},
   "source": [
    "### Weights"
   ]
  },
  {
   "cell_type": "code",
   "execution_count": 9,
   "metadata": {},
   "outputs": [
    {
     "name": "stdout",
     "output_type": "stream",
     "text": [
      "Weight of Esfuerzo fluencia: 0.1\n",
      "Weight of Módulo de elasticidad: 0.15\n",
      "Weight of Densidad: 0.3\n",
      "Weight of Absorción de agua: 0.1\n",
      "Weight of Costo de la materia prima: 0.35\n",
      " \n"
     ]
    },
    {
     "data": {
      "text/plain": [
       "[('Esfuerzo fluencia', 0.1),\n",
       " ('Módulo de elasticidad', 0.15),\n",
       " ('Densidad', 0.3),\n",
       " ('Absorción de agua', 0.1),\n",
       " ('Costo de la materia prima', 0.35)]"
      ]
     },
     "execution_count": 9,
     "metadata": {},
     "output_type": "execute_result"
    }
   ],
   "source": [
    "w = np.zeros(len(criterias)) # Array to save criterias' weight\n",
    "\n",
    "condition = True # Cndition sum weights = 1\n",
    " \n",
    "while condition:\n",
    "    \n",
    "    for i in range(len(criterias)):\n",
    "        w[i] = float(input(\"Weight of {}: \".format(criterias[i])))\n",
    "    \n",
    "    if np.sum(w) == 1:\n",
    "        condition = False\n",
    "    else:\n",
    "        print(\" \")\n",
    "        print(\"¡Sum of weights is different to 1, correct the values!\")\n",
    "\n",
    "print(\" \")\n",
    "list(zip(criterias,w))"
   ]
  },
  {
   "cell_type": "markdown",
   "metadata": {},
   "source": [
    "### Difference Matrices"
   ]
  },
  {
   "cell_type": "code",
   "execution_count": 10,
   "metadata": {},
   "outputs": [
    {
     "name": "stdout",
     "output_type": "stream",
     "text": [
      " \n",
      "\u001b[1mEsfuerzo fluencia\u001b[0m\n",
      "[[  0.  -36.6   3.4 -37.6]\n",
      " [ 36.6   0.   40.   -1. ]\n",
      " [ -3.4 -40.    0.  -41. ]\n",
      " [ 37.6   1.   41.    0. ]]\n",
      " \n",
      "\u001b[1mMódulo de elasticidad\u001b[0m\n",
      "[[ 0.    1.39  0.27 -1.13]\n",
      " [-1.39  0.   -1.12 -2.52]\n",
      " [-0.27  1.12  0.   -1.4 ]\n",
      " [ 1.13  2.52  1.4   0.  ]]\n",
      " \n",
      "\u001b[1mDensidad\u001b[0m\n",
      "[[-0.     0.005  0.04   0.22 ]\n",
      " [-0.005 -0.     0.035  0.215]\n",
      " [-0.04  -0.035 -0.     0.18 ]\n",
      " [-0.22  -0.215 -0.18  -0.   ]]\n",
      " \n",
      "\u001b[1mAbsorción de agua\u001b[0m\n",
      "[[-0.    -0.005  0.18   1.78 ]\n",
      " [ 0.005 -0.     0.185  1.785]\n",
      " [-0.18  -0.185 -0.     1.6  ]\n",
      " [-1.78  -1.785 -1.6   -0.   ]]\n",
      " \n",
      "\u001b[1mCosto de la materia prima\u001b[0m\n",
      "[[-0.    0.09 -0.07  1.13]\n",
      " [-0.09 -0.   -0.16  1.04]\n",
      " [ 0.07  0.16 -0.    1.2 ]\n",
      " [-1.13 -1.04 -1.2  -0.  ]]\n"
     ]
    }
   ],
   "source": [
    "m_diff = np.zeros((len(criterias),len(alternatives),len(alternatives))) # Hypermatrix to save the differences altenatives for each criteria\n",
    "\n",
    "for i in range(len(criterias)):\n",
    "    print(\" \")\n",
    "    print(\"\\033[1m\" + criterias[i] + \"\\033[0m\")\n",
    "    for j in range(len(alternatives)):\n",
    "        \n",
    "        if maxmin[i] == \"Max\":\n",
    "            m_diff[i,j,:] = m_decisional[j,i] - m_decisional[:,i]\n",
    "        else:\n",
    "            m_diff[i,j,:] = -(m_decisional[j,i] - m_decisional[:,i])\n",
    "    \n",
    "    print(m_diff[i])"
   ]
  },
  {
   "cell_type": "markdown",
   "metadata": {},
   "source": [
    "### Preference Functions"
   ]
  },
  {
   "cell_type": "code",
   "execution_count": 11,
   "metadata": {},
   "outputs": [
    {
     "data": {
      "text/plain": [
       "[(1, 'Tipo I: Usual'),\n",
       " (2, 'Tipo II: Forma U'),\n",
       " (3, 'Tipo III: Forma V'),\n",
       " (4, 'Tipo IV: Escalonada'),\n",
       " (5, 'Tipo V: Forma V con diferencia'),\n",
       " (6, 'Tipo IV: Gaussiana')]"
      ]
     },
     "execution_count": 11,
     "metadata": {},
     "output_type": "execute_result"
    }
   ],
   "source": [
    "# List of preference functions\n",
    "pref_fun = [\n",
    "    \"Tipo I: Usual\",\n",
    "    \"Tipo II: Forma U\",\n",
    "    \"Tipo III: Forma V\",\n",
    "    \"Tipo IV: Escalonada\",\n",
    "    \"Tipo V: Forma V con diferencia\",\n",
    "    \"Tipo IV: Gaussiana\"\n",
    "]\n",
    "list(zip(list(range(1,len(pref_fun)+1)), pref_fun))"
   ]
  },
  {
   "cell_type": "code",
   "execution_count": 12,
   "metadata": {},
   "outputs": [],
   "source": [
    "def preference_function(matrix,n):\n",
    "    \n",
    "    m_fun = np.zeros((len(alternatives),len(alternatives))) # Matrix to save the score based on preference functions\n",
    "    \n",
    "    if n == 1: # Tipo I: Usual\n",
    "        for i in range(len(alternatives)):\n",
    "            for j in range(len(alternatives)):\n",
    "                \n",
    "                if matrix[i,j] <= 0:                    \n",
    "                    m_fun[i,j] = 0\n",
    "                else:\n",
    "                    m_fun[i,j] = 1\n",
    "    \n",
    "    if n == 2: # Tipo II: Forma U\n",
    "        q = float(input(\"Input the parameter q: \"))\n",
    "        for i in range(len(alternatives)):\n",
    "            for j in range(len(alternatives)):\n",
    "                \n",
    "                if matrix[i,j] <= q:                    \n",
    "                    m_fun[i,j] = 0\n",
    "                else:\n",
    "                    m_fun[i,j] = 1\n",
    "\n",
    "    if n == 3: # Tipo III: Forma V\n",
    "        \n",
    "        p = float(input(\"Input the parameter p: \"))\n",
    "        \n",
    "        for i in range(len(alternatives)):\n",
    "            for j in range(len(alternatives)):\n",
    "                \n",
    "                if matrix[i,j] <= 0:                    \n",
    "                    m_fun[i,j] = 0\n",
    "                elif matrix[i,j] > p:\n",
    "                    m_fun[i,j] = 1\n",
    "                else:\n",
    "                    m_fun[i,j] = matrix[i,j]/p\n",
    "\n",
    "    if n == 4: # Tipo IV: Escalonada\n",
    "        \n",
    "        q = float(input(\"Input the parameter q: \"))\n",
    "        p = float(input(\"Input the parameter p: \"))\n",
    "        \n",
    "        for i in range(len(alternatives)):\n",
    "            for j in range(len(alternatives)):\n",
    "                \n",
    "                if matrix[i,j] <= q:                    \n",
    "                    m_fun[i,j] = 0\n",
    "                elif matrix[i,j] > p:\n",
    "                    m_fun[i,j] = 1\n",
    "                else:\n",
    "                    m_fun[i,j] = 0.5\n",
    "                    \n",
    "    if n == 5: # Tipo V: Forma V con diferencia\n",
    "        \n",
    "        q = float(input(\"Input the parameter q: \"))\n",
    "        p = float(input(\"Input the parameter p: \"))\n",
    "        \n",
    "        for i in range(len(alternatives)):\n",
    "            for j in range(len(alternatives)):\n",
    "                \n",
    "                if matrix[i,j] <= q:                    \n",
    "                    m_fun[i,j] = 0\n",
    "                elif matrix[i,j] > p:\n",
    "                    m_fun[i,j] = 1\n",
    "                else:\n",
    "                    m_fun[i,j] = (matrix[i,j]-q)/(p-q)\n",
    "    \n",
    "    if n == 6: # Tipo V: Gaussiana\n",
    "        q = input(\"Do you want to use the mean as S parameter?[y/n]: \")\n",
    "        if q == \"y\":\n",
    "            s = sum(sum(abs(matrix)))/(len(alternatives)**2-len(alternatives))\n",
    "        else:\n",
    "            s = float(input(\"Input the parameter s: \"))\n",
    "        for i in range(len(alternatives)):\n",
    "            for j in range(len(alternatives)):\n",
    "                \n",
    "                if matrix[i,j] <= 0:                    \n",
    "                    m_fun[i,j] = 0\n",
    "                else:\n",
    "                    m_fun[i,j] = 1-np.exp(-(matrix[i,j]**2)/(2*s**2))\n",
    "\n",
    "    return m_fun"
   ]
  },
  {
   "cell_type": "code",
   "execution_count": 13,
   "metadata": {},
   "outputs": [
    {
     "data": {
      "image/png": "[encoded data removed]",
      "text/plain": [
       "<Figure size 432x288 with 1 Axes>"
      ]
     },
     "metadata": {
      "needs_background": "light"
     },
     "output_type": "display_data"
    },
    {
     "name": "stdout",
     "output_type": "stream",
     "text": [
      "Choose a preference function [1-6]: 2\n",
      "Preferencie Function for Esfuerzo fluencia -> Tipo II: Forma U\n",
      "Input the parameter q: 10\n"
     ]
    },
    {
     "data": {
      "image/png": "[encoded data removed]",
      "text/plain": [
       "<Figure size 432x288 with 1 Axes>"
      ]
     },
     "metadata": {
      "needs_background": "light"
     },
     "output_type": "display_data"
    },
    {
     "name": "stdout",
     "output_type": "stream",
     "text": [
      "Choose a preference function [1-6]: 4\n",
      "Preferencie Function for Módulo de elasticidad -> Tipo IV: Escalonada\n",
      "Input the parameter q: 1\n",
      "Input the parameter p: 2\n"
     ]
    },
    {
     "data": {
      "image/png": "[encoded data removed]",
      "text/plain": [
       "<Figure size 432x288 with 1 Axes>"
      ]
     },
     "metadata": {
      "needs_background": "light"
     },
     "output_type": "display_data"
    },
    {
     "name": "stdout",
     "output_type": "stream",
     "text": [
      "Choose a preference function [1-6]: 5\n",
      "Preferencie Function for Densidad -> Tipo V: Forma V con diferencia\n",
      "Input the parameter q: 0.03\n",
      "Input the parameter p: 0.25\n"
     ]
    },
    {
     "data": {
      "image/png": "[encoded data removed]",
      "text/plain": [
       "<Figure size 432x288 with 1 Axes>"
      ]
     },
     "metadata": {
      "needs_background": "light"
     },
     "output_type": "display_data"
    },
    {
     "name": "stdout",
     "output_type": "stream",
     "text": [
      "Choose a preference function [1-6]: 3\n",
      "Preferencie Function for Absorción de agua -> Tipo III: Forma V\n",
      "Input the parameter p: 1.8\n"
     ]
    },
    {
     "data": {
      "image/png": "[encoded data removed]",
      "text/plain": [
       "<Figure size 432x288 with 1 Axes>"
      ]
     },
     "metadata": {
      "needs_background": "light"
     },
     "output_type": "display_data"
    },
    {
     "name": "stdout",
     "output_type": "stream",
     "text": [
      "Choose a preference function [1-6]: 6\n",
      "Preferencie Function for Costo de la materia prima -> Tipo IV: Gaussiana\n",
      "Do you want to use the mean as S parameter?[y/n]: y\n"
     ]
    }
   ],
   "source": [
    "pos = [] # Array to save positive values\n",
    "m_score = np.zeros((len(criterias),len(alternatives),len(alternatives))) # Hypermatrix to save score basen on preference functions\n",
    "\n",
    "fun = np.zeros(len(criterias))\n",
    "\n",
    "for i in range(len(criterias)):\n",
    "    pos = np.sort(m_diff[i][m_diff[i]>0])\n",
    "    plt.plot(pos,\"o-\",markersize = 15)\n",
    "    plt.grid()\n",
    "    plt.title(\"{}\".format(criterias[i]))\n",
    "    plt.show()\n",
    "    fun[i] = int(input(\"Choose a preference function [1-6]: \"))\n",
    "    print(\"Preferencie Function for {} -> {}\".format(criterias[i], pref_fun[int(fun[i])-1]))\n",
    "    m_score[i] = preference_function(m_diff[i],fun[i])"
   ]
  },
  {
   "cell_type": "code",
   "execution_count": 14,
   "metadata": {},
   "outputs": [
    {
     "data": {
      "text/plain": [
       "[('Esfuerzo fluencia', 'Tipo II: Forma U'),\n",
       " ('Módulo de elasticidad', 'Tipo IV: Escalonada'),\n",
       " ('Densidad', 'Tipo V: Forma V con diferencia'),\n",
       " ('Absorción de agua', 'Tipo III: Forma V'),\n",
       " ('Costo de la materia prima', 'Tipo IV: Gaussiana')]"
      ]
     },
     "execution_count": 14,
     "metadata": {},
     "output_type": "execute_result"
    }
   ],
   "source": [
    "name_fun = []\n",
    "for i in range(len(criterias)):\n",
    "    name_fun.append(pref_fun[int(fun[i])-1])\n",
    "list(zip(criterias,name_fun))"
   ]
  },
  {
   "cell_type": "code",
   "execution_count": 15,
   "metadata": {},
   "outputs": [
    {
     "data": {
      "text/plain": [
       "array([[[0.   , 0.   , 0.   , 0.   ],\n",
       "        [1.   , 0.   , 1.   , 0.   ],\n",
       "        [0.   , 0.   , 0.   , 0.   ],\n",
       "        [1.   , 0.   , 1.   , 0.   ]],\n",
       "\n",
       "       [[0.   , 0.5  , 0.   , 0.   ],\n",
       "        [0.   , 0.   , 0.   , 0.   ],\n",
       "        [0.   , 0.5  , 0.   , 0.   ],\n",
       "        [0.5  , 1.   , 0.5  , 0.   ]],\n",
       "\n",
       "       [[0.   , 0.   , 0.045, 0.864],\n",
       "        [0.   , 0.   , 0.023, 0.841],\n",
       "        [0.   , 0.   , 0.   , 0.682],\n",
       "        [0.   , 0.   , 0.   , 0.   ]],\n",
       "\n",
       "       [[0.   , 0.   , 0.1  , 0.989],\n",
       "        [0.003, 0.   , 0.103, 0.992],\n",
       "        [0.   , 0.   , 0.   , 0.889],\n",
       "        [0.   , 0.   , 0.   , 0.   ]],\n",
       "\n",
       "       [[0.   , 0.011, 0.   , 0.815],\n",
       "        [0.   , 0.   , 0.   , 0.761],\n",
       "        [0.006, 0.033, 0.   , 0.851],\n",
       "        [0.   , 0.   , 0.   , 0.   ]]])"
      ]
     },
     "execution_count": 15,
     "metadata": {},
     "output_type": "execute_result"
    }
   ],
   "source": [
    "m_score"
   ]
  },
  {
   "cell_type": "markdown",
   "metadata": {},
   "source": [
    "### Preferred Aggregate Index"
   ]
  },
  {
   "cell_type": "code",
   "execution_count": 16,
   "metadata": {},
   "outputs": [
    {
     "data": {
      "text/plain": [
       "array([[0.   , 0.079, 0.024, 0.643],\n",
       "       [0.1  , 0.   , 0.117, 0.618],\n",
       "       [0.002, 0.087, 0.   , 0.591],\n",
       "       [0.175, 0.15 , 0.175, 0.   ]])"
      ]
     },
     "execution_count": 16,
     "metadata": {},
     "output_type": "execute_result"
    }
   ],
   "source": [
    "m_IPA = np.zeros((len(alternatives),len(alternatives))) # Matrix to save IPA\n",
    "\n",
    "for i in range(len(criterias)):\n",
    "    m_IPA += m_score[i]*w[i]\n",
    "m_IPA"
   ]
  },
  {
   "cell_type": "code",
   "execution_count": 17,
   "metadata": {},
   "outputs": [
    {
     "name": "stdout",
     "output_type": "stream",
     "text": [
      "[0.249 0.278 0.227 0.167]\n",
      "[0.093 0.105 0.105 0.617]\n"
     ]
    }
   ],
   "source": [
    "FS_pos = np.zeros(len(alternatives))\n",
    "FS_neg = np.zeros(len(alternatives))\n",
    "\n",
    "for i in range(len(alternatives)):\n",
    "    FS_pos[i] = sum(m_IPA[i,:])/(len(alternatives)-1)\n",
    "    FS_neg[i] = sum(m_IPA[:,i])/(len(alternatives)-1)\n",
    "    \n",
    "print(FS_pos)\n",
    "print(FS_neg)"
   ]
  },
  {
   "cell_type": "code",
   "execution_count": 18,
   "metadata": {},
   "outputs": [
    {
     "data": {
      "text/plain": [
       "array([ 0.156,  0.173,  0.121, -0.451])"
      ]
     },
     "execution_count": 18,
     "metadata": {},
     "output_type": "execute_result"
    }
   ],
   "source": [
    "FS_N = FS_pos - FS_neg\n",
    "FS_N"
   ]
  },
  {
   "cell_type": "markdown",
   "metadata": {},
   "source": [
    "### Results"
   ]
  },
  {
   "cell_type": "code",
   "execution_count": 19,
   "metadata": {},
   "outputs": [
    {
     "data": {
      "text/html": [
       "<div>\n",
       "<style scoped>\n",
       "    .dataframe tbody tr th:only-of-type {\n",
       "        vertical-align: middle;\n",
       "    }\n",
       "\n",
       "    .dataframe tbody tr th {\n",
       "        vertical-align: top;\n",
       "    }\n",
       "\n",
       "    .dataframe thead th {\n",
       "        text-align: right;\n",
       "    }\n",
       "</style>\n",
       "<table border=\"1\" class=\"dataframe\">\n",
       "  <thead>\n",
       "    <tr style=\"text-align: right;\">\n",
       "      <th></th>\n",
       "      <th>Material</th>\n",
       "      <th>FS_N</th>\n",
       "    </tr>\n",
       "  </thead>\n",
       "  <tbody>\n",
       "    <tr>\n",
       "      <th>0</th>\n",
       "      <td>PP</td>\n",
       "      <td>0.156032</td>\n",
       "    </tr>\n",
       "    <tr>\n",
       "      <th>1</th>\n",
       "      <td>LDPE</td>\n",
       "      <td>0.173222</td>\n",
       "    </tr>\n",
       "    <tr>\n",
       "      <th>2</th>\n",
       "      <td>HDPE</td>\n",
       "      <td>0.121483</td>\n",
       "    </tr>\n",
       "    <tr>\n",
       "      <th>3</th>\n",
       "      <td>N6</td>\n",
       "      <td>-0.450737</td>\n",
       "    </tr>\n",
       "  </tbody>\n",
       "</table>\n",
       "</div>"
      ],
      "text/plain": [
       "  Material      FS_N\n",
       "0       PP  0.156032\n",
       "1     LDPE  0.173222\n",
       "2     HDPE  0.121483\n",
       "3       N6 -0.450737"
      ]
     },
     "execution_count": 19,
     "metadata": {},
     "output_type": "execute_result"
    }
   ],
   "source": [
    "# Show it as a Dataframe\n",
    "df_end = pd.DataFrame(FS_N)\n",
    "df_end.insert(0, \"Material\", alternatives)\n",
    "df_end.columns = [\"Material\",\"FS_N\"]\n",
    "df_end"
   ]
  },
  {
   "cell_type": "code",
   "execution_count": 20,
   "metadata": {},
   "outputs": [
    {
     "data": {
      "text/html": [
       "<div>\n",
       "<style scoped>\n",
       "    .dataframe tbody tr th:only-of-type {\n",
       "        vertical-align: middle;\n",
       "    }\n",
       "\n",
       "    .dataframe tbody tr th {\n",
       "        vertical-align: top;\n",
       "    }\n",
       "\n",
       "    .dataframe thead th {\n",
       "        text-align: right;\n",
       "    }\n",
       "</style>\n",
       "<table border=\"1\" class=\"dataframe\">\n",
       "  <thead>\n",
       "    <tr style=\"text-align: right;\">\n",
       "      <th></th>\n",
       "      <th>Ranking</th>\n",
       "      <th>Material</th>\n",
       "      <th>FS_N</th>\n",
       "    </tr>\n",
       "  </thead>\n",
       "  <tbody>\n",
       "    <tr>\n",
       "      <th>1</th>\n",
       "      <td>1</td>\n",
       "      <td>LDPE</td>\n",
       "      <td>0.173222</td>\n",
       "    </tr>\n",
       "    <tr>\n",
       "      <th>0</th>\n",
       "      <td>2</td>\n",
       "      <td>PP</td>\n",
       "      <td>0.156032</td>\n",
       "    </tr>\n",
       "    <tr>\n",
       "      <th>2</th>\n",
       "      <td>3</td>\n",
       "      <td>HDPE</td>\n",
       "      <td>0.121483</td>\n",
       "    </tr>\n",
       "    <tr>\n",
       "      <th>3</th>\n",
       "      <td>4</td>\n",
       "      <td>N6</td>\n",
       "      <td>-0.450737</td>\n",
       "    </tr>\n",
       "  </tbody>\n",
       "</table>\n",
       "</div>"
      ],
      "text/plain": [
       "   Ranking Material      FS_N\n",
       "1        1     LDPE  0.173222\n",
       "0        2       PP  0.156032\n",
       "2        3     HDPE  0.121483\n",
       "3        4       N6 -0.450737"
      ]
     },
     "execution_count": 20,
     "metadata": {},
     "output_type": "execute_result"
    }
   ],
   "source": [
    "df_end = df_end.sort_values(by=[\"FS_N\"], ascending = False)\n",
    "df_end.insert(0, \"Ranking\", list(range(1,len(alternatives)+1)))\n",
    "df_end"
   ]
  }
 ],
 "metadata": {
  "kernelspec": {
   "display_name": "Python 3",
   "language": "python",
   "name": "python3"
  },
  "language_info": {
   "codemirror_mode": {
    "name": "ipython",
    "version": 3
   },
   "file_extension": ".py",
   "mimetype": "text/x-python",
   "name": "python",
   "nbconvert_exporter": "python",
   "pygments_lexer": "ipython3",
   "version": "3.8.8"
  }
 },
 "nbformat": 4,
 "nbformat_minor": 2
}
